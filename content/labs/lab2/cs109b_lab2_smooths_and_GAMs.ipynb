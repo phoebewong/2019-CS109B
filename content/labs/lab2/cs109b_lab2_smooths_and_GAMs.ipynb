{
 "cells": [
  {
   "cell_type": "markdown",
   "metadata": {},
   "source": [
    "# <img style=\"float: left; padding-right: 10px; width: 45px\" src=\"https://raw.githubusercontent.com/Harvard-IACS/2018-CS109A/master/content/styles/iacs.png\"> CS109B Data Science 2: Advanced Topics in Data Science \n",
    "## Lab 2 - Smoothers and Generalized Additive Models\n",
    "\n",
    "\n",
    "**Harvard University**<br>\n",
    "**Spring 2019**<br>\n",
    "**Instructors:** Mark Glickman and Pavlos Protopapas<br>\n",
    "**Lab Instructors:** Will Claybaugh<br>\n",
    "**Contributors:** Paul Tyklin and Will Claybaugh\n",
    "\n",
    "---"
   ]
  },
  {
   "cell_type": "code",
   "execution_count": 7,
   "metadata": {},
   "outputs": [
    {
     "data": {
      "text/html": [
       "<style>\n",
       "blockquote { background: #AEDE94; }\n",
       "h1 { \n",
       "    padding-top: 25px;\n",
       "    padding-bottom: 25px;\n",
       "    text-align: left; \n",
       "    padding-left: 10px;\n",
       "    background-color: #DDDDDD; \n",
       "    color: black;\n",
       "}\n",
       "h2 { \n",
       "    padding-top: 10px;\n",
       "    padding-bottom: 10px;\n",
       "    text-align: left; \n",
       "    padding-left: 5px;\n",
       "    background-color: #EEEEEE; \n",
       "    color: black;\n",
       "}\n",
       "\n",
       "div.exercise {\n",
       "\tbackground-color: #ffcccc;\n",
       "\tborder-color: #E9967A; \t\n",
       "\tborder-left: 5px solid #800080; \n",
       "\tpadding: 0.5em;\n",
       "}\n",
       "div.discussion {\n",
       "\tbackground-color: #ccffcc;\n",
       "\tborder-color: #88E97A;\n",
       "\tborder-left: 5px solid #0A8000; \n",
       "\tpadding: 0.5em;\n",
       "}\n",
       "div.theme {\n",
       "\tbackground-color: #DDDDDD;\n",
       "\tborder-color: #E9967A; \t\n",
       "\tborder-left: 5px solid #800080; \n",
       "\tpadding: 0.5em;\n",
       "\tfont-size: 18pt;\n",
       "}\n",
       "div.gc { \n",
       "\tbackground-color: #AEDE94;\n",
       "\tborder-color: #E9967A; \t \n",
       "\tborder-left: 5px solid #800080; \n",
       "\tpadding: 0.5em;\n",
       "\tfont-size: 12pt;\n",
       "}\n",
       "p.q1 { \n",
       "    padding-top: 5px;\n",
       "    padding-bottom: 5px;\n",
       "    text-align: left; \n",
       "    padding-left: 5px;\n",
       "    background-color: #EEEEEE; \n",
       "    color: black;\n",
       "}\n",
       "header {\n",
       "   padding-top: 35px;\n",
       "    padding-bottom: 35px;\n",
       "    text-align: left; \n",
       "    padding-left: 10px;\n",
       "    background-color: #DDDDDD; \n",
       "    color: black;\n",
       "}\n",
       "</style>\n",
       "\n"
      ],
      "text/plain": [
       "<IPython.core.display.HTML object>"
      ]
     },
     "execution_count": 7,
     "metadata": {},
     "output_type": "execute_result"
    }
   ],
   "source": [
    "## RUN THIS CELL TO PROPERLY HIGHLIGHT THE EXERCISES\n",
    "import requests\n",
    "from IPython.core.display import HTML\n",
    "styles = requests.get(\"https://raw.githubusercontent.com/Harvard-IACS/2019-CS109B/master/content/styles/cs109.css\").text\n",
    "HTML(styles)"
   ]
  },
  {
   "cell_type": "markdown",
   "metadata": {},
   "source": [
    "## Learning Goals\n",
    "\n",
    "The main goal of this lab is to get familiar with calling R functions within Python. Along the way, we'll learn about the \"formula\" interface to statsmodels, which gives an intuitive way of specifying regression models, and we'll review the different approaches to fitting curves.\n",
    "\n",
    "Key Skills:\n",
    "- Importing (base) R functions\n",
    "- Importing R library functions\n",
    "- Populating vectors R understands\n",
    "- Populating dataframes R understands\n",
    "- Populating formulas R understands\n",
    "- Running models in R\n",
    "- Getting results back to Python\n",
    "- Getting model predictions in R\n",
    "- Plotting in R\n",
    "- Reading R's documentation"
   ]
  },
  {
   "cell_type": "code",
   "execution_count": 8,
   "metadata": {},
   "outputs": [],
   "source": [
    "import numpy as np\n",
    "import pandas as pd\n",
    "import matplotlib.pyplot as plt\n",
    "\n",
    "%matplotlib inline "
   ]
  },
  {
   "cell_type": "markdown",
   "metadata": {},
   "source": [
    "## Linear/Polynomial Regression (Python, Review)\n",
    "Hopefully, you remember working with Statsmodels during 109a"
   ]
  },
  {
   "cell_type": "markdown",
   "metadata": {},
   "source": [
    "Reading data and (some) exploring in Pandas:"
   ]
  },
  {
   "cell_type": "code",
   "execution_count": 9,
   "metadata": {},
   "outputs": [
    {
     "name": "stdout",
     "output_type": "stream",
     "text": [
      "\n",
      "# Variables are:\n",
      "#   subject:   subject ID number\n",
      "#   age:       age diagnosed with diabetes\n",
      "#   acidity:   a measure of acidity called base deficit\n",
      "#   y:         natural log of serum C-peptide concentration\n",
      "#\n",
      "# Original source is Sockett et al. (1987)\n",
      "# mentioned in Hastie and Tibshirani's book \n",
      "# \"Generalized Additive Models\".\n",
      "\n"
     ]
    },
    {
     "data": {
      "text/html": [
       "<div>\n",
       "<style scoped>\n",
       "    .dataframe tbody tr th:only-of-type {\n",
       "        vertical-align: middle;\n",
       "    }\n",
       "\n",
       "    .dataframe tbody tr th {\n",
       "        vertical-align: top;\n",
       "    }\n",
       "\n",
       "    .dataframe thead th {\n",
       "        text-align: right;\n",
       "    }\n",
       "</style>\n",
       "<table border=\"1\" class=\"dataframe\">\n",
       "  <thead>\n",
       "    <tr style=\"text-align: right;\">\n",
       "      <th></th>\n",
       "      <th>subject</th>\n",
       "      <th>age</th>\n",
       "      <th>acidity</th>\n",
       "      <th>y</th>\n",
       "    </tr>\n",
       "  </thead>\n",
       "  <tbody>\n",
       "    <tr>\n",
       "      <th>0</th>\n",
       "      <td>1</td>\n",
       "      <td>5.2</td>\n",
       "      <td>-8.1</td>\n",
       "      <td>4.8</td>\n",
       "    </tr>\n",
       "    <tr>\n",
       "      <th>1</th>\n",
       "      <td>2</td>\n",
       "      <td>8.8</td>\n",
       "      <td>-16.1</td>\n",
       "      <td>4.1</td>\n",
       "    </tr>\n",
       "    <tr>\n",
       "      <th>2</th>\n",
       "      <td>3</td>\n",
       "      <td>10.5</td>\n",
       "      <td>-0.9</td>\n",
       "      <td>5.2</td>\n",
       "    </tr>\n",
       "    <tr>\n",
       "      <th>3</th>\n",
       "      <td>4</td>\n",
       "      <td>10.6</td>\n",
       "      <td>-7.8</td>\n",
       "      <td>5.5</td>\n",
       "    </tr>\n",
       "    <tr>\n",
       "      <th>4</th>\n",
       "      <td>5</td>\n",
       "      <td>10.4</td>\n",
       "      <td>-29.0</td>\n",
       "      <td>5.0</td>\n",
       "    </tr>\n",
       "  </tbody>\n",
       "</table>\n",
       "</div>"
      ],
      "text/plain": [
       "   subject   age  acidity    y\n",
       "0        1   5.2     -8.1  4.8\n",
       "1        2   8.8    -16.1  4.1\n",
       "2        3  10.5     -0.9  5.2\n",
       "3        4  10.6     -7.8  5.5\n",
       "4        5  10.4    -29.0  5.0"
      ]
     },
     "metadata": {},
     "output_type": "display_data"
    },
    {
     "data": {
      "text/plain": [
       "subject      int64\n",
       "age        float64\n",
       "acidity    float64\n",
       "y          float64\n",
       "dtype: object"
      ]
     },
     "metadata": {},
     "output_type": "display_data"
    },
    {
     "data": {
      "text/html": [
       "<div>\n",
       "<style scoped>\n",
       "    .dataframe tbody tr th:only-of-type {\n",
       "        vertical-align: middle;\n",
       "    }\n",
       "\n",
       "    .dataframe tbody tr th {\n",
       "        vertical-align: top;\n",
       "    }\n",
       "\n",
       "    .dataframe thead th {\n",
       "        text-align: right;\n",
       "    }\n",
       "</style>\n",
       "<table border=\"1\" class=\"dataframe\">\n",
       "  <thead>\n",
       "    <tr style=\"text-align: right;\">\n",
       "      <th></th>\n",
       "      <th>subject</th>\n",
       "      <th>age</th>\n",
       "      <th>acidity</th>\n",
       "      <th>y</th>\n",
       "    </tr>\n",
       "  </thead>\n",
       "  <tbody>\n",
       "    <tr>\n",
       "      <th>count</th>\n",
       "      <td>43.000000</td>\n",
       "      <td>43.000000</td>\n",
       "      <td>43.000000</td>\n",
       "      <td>43.000000</td>\n",
       "    </tr>\n",
       "    <tr>\n",
       "      <th>mean</th>\n",
       "      <td>22.000000</td>\n",
       "      <td>9.032558</td>\n",
       "      <td>-8.148837</td>\n",
       "      <td>4.746512</td>\n",
       "    </tr>\n",
       "    <tr>\n",
       "      <th>std</th>\n",
       "      <td>12.556539</td>\n",
       "      <td>4.022539</td>\n",
       "      <td>7.123080</td>\n",
       "      <td>0.720565</td>\n",
       "    </tr>\n",
       "    <tr>\n",
       "      <th>min</th>\n",
       "      <td>1.000000</td>\n",
       "      <td>0.900000</td>\n",
       "      <td>-29.000000</td>\n",
       "      <td>3.000000</td>\n",
       "    </tr>\n",
       "    <tr>\n",
       "      <th>25%</th>\n",
       "      <td>11.500000</td>\n",
       "      <td>5.500000</td>\n",
       "      <td>-12.700000</td>\n",
       "      <td>4.450000</td>\n",
       "    </tr>\n",
       "    <tr>\n",
       "      <th>50%</th>\n",
       "      <td>22.000000</td>\n",
       "      <td>10.400000</td>\n",
       "      <td>-7.800000</td>\n",
       "      <td>4.900000</td>\n",
       "    </tr>\n",
       "    <tr>\n",
       "      <th>75%</th>\n",
       "      <td>32.500000</td>\n",
       "      <td>11.850000</td>\n",
       "      <td>-2.000000</td>\n",
       "      <td>5.100000</td>\n",
       "    </tr>\n",
       "    <tr>\n",
       "      <th>max</th>\n",
       "      <td>43.000000</td>\n",
       "      <td>15.600000</td>\n",
       "      <td>-0.200000</td>\n",
       "      <td>6.600000</td>\n",
       "    </tr>\n",
       "  </tbody>\n",
       "</table>\n",
       "</div>"
      ],
      "text/plain": [
       "         subject        age    acidity          y\n",
       "count  43.000000  43.000000  43.000000  43.000000\n",
       "mean   22.000000   9.032558  -8.148837   4.746512\n",
       "std    12.556539   4.022539   7.123080   0.720565\n",
       "min     1.000000   0.900000 -29.000000   3.000000\n",
       "25%    11.500000   5.500000 -12.700000   4.450000\n",
       "50%    22.000000  10.400000  -7.800000   4.900000\n",
       "75%    32.500000  11.850000  -2.000000   5.100000\n",
       "max    43.000000  15.600000  -0.200000   6.600000"
      ]
     },
     "metadata": {},
     "output_type": "display_data"
    }
   ],
   "source": [
    "diab = pd.read_csv(\"data/diabetes.csv\")\n",
    "print(\"\"\"\n",
    "# Variables are:\n",
    "#   subject:   subject ID number\n",
    "#   age:       age diagnosed with diabetes\n",
    "#   acidity:   a measure of acidity called base deficit\n",
    "#   y:         natural log of serum C-peptide concentration\n",
    "#\n",
    "# Original source is Sockett et al. (1987)\n",
    "# mentioned in Hastie and Tibshirani's book \n",
    "# \"Generalized Additive Models\".\n",
    "\"\"\")\n",
    "\n",
    "display(diab.head())\n",
    "display(diab.dtypes)\n",
    "display(diab.describe())"
   ]
  },
  {
   "cell_type": "markdown",
   "metadata": {},
   "source": [
    "Plotting with matplotlib:"
   ]
  },
  {
   "cell_type": "code",
   "execution_count": 10,
   "metadata": {},
   "outputs": [
    {
     "data": {
      "image/png": "[encoded data removed]",
      "text/plain": [
       "<Figure size 432x288 with 1 Axes>"
      ]
     },
     "metadata": {
      "needs_background": "light"
     },
     "output_type": "display_data"
    }
   ],
   "source": [
    "ax0 = diab.plot.scatter(x='age',y='y',c='Red',title=\"Diabetes data\") #plotting direclty from pandas!\n",
    "ax0.set_xlabel(\"Age at Diagnosis\")\n",
    "ax0.set_ylabel(\"Log C-Peptide Concentration\");"
   ]
  },
  {
   "cell_type": "markdown",
   "metadata": {},
   "source": [
    "Linear regression with statsmodels. \n",
    "\n",
    "- Previously, we worked from a vector of target values and a design matrix we built ourself (e.g. from PolynomialFeatures). \n",
    "- Now, Statsmodels' *formula interface* can help build the target value and design matrix for you."
   ]
  },
  {
   "cell_type": "code",
   "execution_count": 11,
   "metadata": {},
   "outputs": [],
   "source": [
    "#Using statsmodels\n",
    "import statsmodels.formula.api as sm\n",
    "\n",
    "\n",
    "model1 = sm.ols('y ~ age',data=diab)\n",
    "fit1_lm = model1.fit()"
   ]
  },
  {
   "cell_type": "code",
   "execution_count": 12,
   "metadata": {},
   "outputs": [
    {
     "data": {
      "text/html": [
       "<table class=\"simpletable\">\n",
       "<caption>OLS Regression Results</caption>\n",
       "<tr>\n",
       "  <th>Dep. Variable:</th>            <td>y</td>        <th>  R-squared:         </th> <td>   0.215</td>\n",
       "</tr>\n",
       "<tr>\n",
       "  <th>Model:</th>                   <td>OLS</td>       <th>  Adj. R-squared:    </th> <td>   0.196</td>\n",
       "</tr>\n",
       "<tr>\n",
       "  <th>Method:</th>             <td>Least Squares</td>  <th>  F-statistic:       </th> <td>   11.24</td>\n",
       "</tr>\n",
       "<tr>\n",
       "  <th>Date:</th>             <td>Mon, 11 Feb 2019</td> <th>  Prob (F-statistic):</th>  <td>0.00173</td>\n",
       "</tr>\n",
       "<tr>\n",
       "  <th>Time:</th>                 <td>17:12:44</td>     <th>  Log-Likelihood:    </th> <td> -41.208</td>\n",
       "</tr>\n",
       "<tr>\n",
       "  <th>No. Observations:</th>      <td>    43</td>      <th>  AIC:               </th> <td>   86.42</td>\n",
       "</tr>\n",
       "<tr>\n",
       "  <th>Df Residuals:</th>          <td>    41</td>      <th>  BIC:               </th> <td>   89.94</td>\n",
       "</tr>\n",
       "<tr>\n",
       "  <th>Df Model:</th>              <td>     1</td>      <th>                     </th>     <td> </td>   \n",
       "</tr>\n",
       "<tr>\n",
       "  <th>Covariance Type:</th>      <td>nonrobust</td>    <th>                     </th>     <td> </td>   \n",
       "</tr>\n",
       "</table>\n",
       "<table class=\"simpletable\">\n",
       "<tr>\n",
       "      <td></td>         <th>coef</th>     <th>std err</th>      <th>t</th>      <th>P>|t|</th>  <th>[0.025</th>    <th>0.975]</th>  \n",
       "</tr>\n",
       "<tr>\n",
       "  <th>Intercept</th> <td>    3.9960</td> <td>    0.245</td> <td>   16.338</td> <td> 0.000</td> <td>    3.502</td> <td>    4.490</td>\n",
       "</tr>\n",
       "<tr>\n",
       "  <th>age</th>       <td>    0.0831</td> <td>    0.025</td> <td>    3.352</td> <td> 0.002</td> <td>    0.033</td> <td>    0.133</td>\n",
       "</tr>\n",
       "</table>\n",
       "<table class=\"simpletable\">\n",
       "<tr>\n",
       "  <th>Omnibus:</th>       <td> 2.002</td> <th>  Durbin-Watson:     </th> <td>   1.903</td>\n",
       "</tr>\n",
       "<tr>\n",
       "  <th>Prob(Omnibus):</th> <td> 0.368</td> <th>  Jarque-Bera (JB):  </th> <td>   1.083</td>\n",
       "</tr>\n",
       "<tr>\n",
       "  <th>Skew:</th>          <td>-0.316</td> <th>  Prob(JB):          </th> <td>   0.582</td>\n",
       "</tr>\n",
       "<tr>\n",
       "  <th>Kurtosis:</th>      <td> 3.454</td> <th>  Cond. No.          </th> <td>    24.7</td>\n",
       "</tr>\n",
       "</table><br/><br/>Warnings:<br/>[1] Standard Errors assume that the covariance matrix of the errors is correctly specified."
      ],
      "text/plain": [
       "<class 'statsmodels.iolib.summary.Summary'>\n",
       "\"\"\"\n",
       "                            OLS Regression Results                            \n",
       "==============================================================================\n",
       "Dep. Variable:                      y   R-squared:                       0.215\n",
       "Model:                            OLS   Adj. R-squared:                  0.196\n",
       "Method:                 Least Squares   F-statistic:                     11.24\n",
       "Date:                Mon, 11 Feb 2019   Prob (F-statistic):            0.00173\n",
       "Time:                        17:12:44   Log-Likelihood:                -41.208\n",
       "No. Observations:                  43   AIC:                             86.42\n",
       "Df Residuals:                      41   BIC:                             89.94\n",
       "Df Model:                           1                                         \n",
       "Covariance Type:            nonrobust                                         \n",
       "==============================================================================\n",
       "                 coef    std err          t      P>|t|      [0.025      0.975]\n",
       "------------------------------------------------------------------------------\n",
       "Intercept      3.9960      0.245     16.338      0.000       3.502       4.490\n",
       "age            0.0831      0.025      3.352      0.002       0.033       0.133\n",
       "==============================================================================\n",
       "Omnibus:                        2.002   Durbin-Watson:                   1.903\n",
       "Prob(Omnibus):                  0.368   Jarque-Bera (JB):                1.083\n",
       "Skew:                          -0.316   Prob(JB):                        0.582\n",
       "Kurtosis:                       3.454   Cond. No.                         24.7\n",
       "==============================================================================\n",
       "\n",
       "Warnings:\n",
       "[1] Standard Errors assume that the covariance matrix of the errors is correctly specified.\n",
       "\"\"\""
      ]
     },
     "execution_count": 12,
     "metadata": {},
     "output_type": "execute_result"
    }
   ],
   "source": [
    "fit1_lm.summary()"
   ]
  },
  {
   "cell_type": "markdown",
   "metadata": {},
   "source": [
    "Build a data frame to predict values on (sometimes this is just the test or validation set)\n",
    " - Very useful for making pretty plots of the model predcitions -- predict for TONS of values, not just whatever's in the training set"
   ]
  },
  {
   "cell_type": "code",
   "execution_count": 13,
   "metadata": {},
   "outputs": [
    {
     "data": {
      "text/html": [
       "<div>\n",
       "<style scoped>\n",
       "    .dataframe tbody tr th:only-of-type {\n",
       "        vertical-align: middle;\n",
       "    }\n",
       "\n",
       "    .dataframe tbody tr th {\n",
       "        vertical-align: top;\n",
       "    }\n",
       "\n",
       "    .dataframe thead th {\n",
       "        text-align: right;\n",
       "    }\n",
       "</style>\n",
       "<table border=\"1\" class=\"dataframe\">\n",
       "  <thead>\n",
       "    <tr style=\"text-align: right;\">\n",
       "      <th></th>\n",
       "      <th>age</th>\n",
       "    </tr>\n",
       "  </thead>\n",
       "  <tbody>\n",
       "    <tr>\n",
       "      <th>0</th>\n",
       "      <td>0.000000</td>\n",
       "    </tr>\n",
       "    <tr>\n",
       "      <th>1</th>\n",
       "      <td>0.161616</td>\n",
       "    </tr>\n",
       "    <tr>\n",
       "      <th>2</th>\n",
       "      <td>0.323232</td>\n",
       "    </tr>\n",
       "    <tr>\n",
       "      <th>3</th>\n",
       "      <td>0.484848</td>\n",
       "    </tr>\n",
       "    <tr>\n",
       "      <th>4</th>\n",
       "      <td>0.646465</td>\n",
       "    </tr>\n",
       "  </tbody>\n",
       "</table>\n",
       "</div>"
      ],
      "text/plain": [
       "        age\n",
       "0  0.000000\n",
       "1  0.161616\n",
       "2  0.323232\n",
       "3  0.484848\n",
       "4  0.646465"
      ]
     },
     "execution_count": 13,
     "metadata": {},
     "output_type": "execute_result"
    }
   ],
   "source": [
    "x_pred = np.linspace(0,16,100)\n",
    "\n",
    "predict_df = pd.DataFrame(data={\"age\":x_pred})\n",
    "predict_df.head()"
   ]
  },
  {
   "cell_type": "markdown",
   "metadata": {},
   "source": [
    "Use `get_prediction(<data>).summary_frame()` to get the model's prediction (and error bars!)"
   ]
  },
  {
   "cell_type": "code",
   "execution_count": 14,
   "metadata": {},
   "outputs": [
    {
     "data": {
      "text/html": [
       "<div>\n",
       "<style scoped>\n",
       "    .dataframe tbody tr th:only-of-type {\n",
       "        vertical-align: middle;\n",
       "    }\n",
       "\n",
       "    .dataframe tbody tr th {\n",
       "        vertical-align: top;\n",
       "    }\n",
       "\n",
       "    .dataframe thead th {\n",
       "        text-align: right;\n",
       "    }\n",
       "</style>\n",
       "<table border=\"1\" class=\"dataframe\">\n",
       "  <thead>\n",
       "    <tr style=\"text-align: right;\">\n",
       "      <th></th>\n",
       "      <th>mean</th>\n",
       "      <th>mean_se</th>\n",
       "      <th>mean_ci_lower</th>\n",
       "      <th>mean_ci_upper</th>\n",
       "      <th>obs_ci_lower</th>\n",
       "      <th>obs_ci_upper</th>\n",
       "    </tr>\n",
       "  </thead>\n",
       "  <tbody>\n",
       "    <tr>\n",
       "      <th>0</th>\n",
       "      <td>3.996031</td>\n",
       "      <td>0.244590</td>\n",
       "      <td>3.502071</td>\n",
       "      <td>4.489991</td>\n",
       "      <td>2.600828</td>\n",
       "      <td>5.391235</td>\n",
       "    </tr>\n",
       "    <tr>\n",
       "      <th>1</th>\n",
       "      <td>4.009459</td>\n",
       "      <td>0.240929</td>\n",
       "      <td>3.522892</td>\n",
       "      <td>4.496026</td>\n",
       "      <td>2.616856</td>\n",
       "      <td>5.402063</td>\n",
       "    </tr>\n",
       "    <tr>\n",
       "      <th>2</th>\n",
       "      <td>4.022887</td>\n",
       "      <td>0.237280</td>\n",
       "      <td>3.543691</td>\n",
       "      <td>4.502084</td>\n",
       "      <td>2.632842</td>\n",
       "      <td>5.412932</td>\n",
       "    </tr>\n",
       "    <tr>\n",
       "      <th>3</th>\n",
       "      <td>4.036315</td>\n",
       "      <td>0.233642</td>\n",
       "      <td>3.564466</td>\n",
       "      <td>4.508165</td>\n",
       "      <td>2.648786</td>\n",
       "      <td>5.423845</td>\n",
       "    </tr>\n",
       "    <tr>\n",
       "      <th>4</th>\n",
       "      <td>4.049743</td>\n",
       "      <td>0.230016</td>\n",
       "      <td>3.585216</td>\n",
       "      <td>4.514270</td>\n",
       "      <td>2.664687</td>\n",
       "      <td>5.434800</td>\n",
       "    </tr>\n",
       "  </tbody>\n",
       "</table>\n",
       "</div>"
      ],
      "text/plain": [
       "       mean   mean_se  mean_ci_lower  mean_ci_upper  obs_ci_lower  \\\n",
       "0  3.996031  0.244590       3.502071       4.489991      2.600828   \n",
       "1  4.009459  0.240929       3.522892       4.496026      2.616856   \n",
       "2  4.022887  0.237280       3.543691       4.502084      2.632842   \n",
       "3  4.036315  0.233642       3.564466       4.508165      2.648786   \n",
       "4  4.049743  0.230016       3.585216       4.514270      2.664687   \n",
       "\n",
       "   obs_ci_upper  \n",
       "0      5.391235  \n",
       "1      5.402063  \n",
       "2      5.412932  \n",
       "3      5.423845  \n",
       "4      5.434800  "
      ]
     },
     "execution_count": 14,
     "metadata": {},
     "output_type": "execute_result"
    }
   ],
   "source": [
    "prediction_output = fit1_lm.get_prediction(predict_df).summary_frame()\n",
    "prediction_output.head()"
   ]
  },
  {
   "cell_type": "markdown",
   "metadata": {},
   "source": [
    "Plot the model and error bars"
   ]
  },
  {
   "cell_type": "code",
   "execution_count": 15,
   "metadata": {},
   "outputs": [
    {
     "data": {
      "image/png": "[encoded data removed]",
      "text/plain": [
       "<Figure size 432x288 with 1 Axes>"
      ]
     },
     "metadata": {
      "needs_background": "light"
     },
     "output_type": "display_data"
    }
   ],
   "source": [
    "ax1 = diab.plot.scatter(x='age',y='y',c='Red',title=\"Diabetes data with least-squares linear fit\")\n",
    "ax1.set_xlabel(\"Age at Diagnosis\")\n",
    "ax1.set_ylabel(\"Log C-Peptide Concentration\")\n",
    "\n",
    "\n",
    "ax1.plot(predict_df.age, prediction_output['mean'],color=\"green\")\n",
    "ax1.plot(predict_df.age, prediction_output['mean_ci_lower'], color=\"blue\",linestyle=\"dashed\")\n",
    "ax1.plot(predict_df.age, prediction_output['mean_ci_upper'], color=\"blue\",linestyle=\"dashed\");\n",
    "\n",
    "ax1.plot(predict_df.age, prediction_output['obs_ci_lower'], color=\"skyblue\",linestyle=\"dashed\")\n",
    "ax1.plot(predict_df.age, prediction_output['obs_ci_upper'], color=\"skyblue\",linestyle=\"dashed\");"
   ]
  },
  {
   "cell_type": "markdown",
   "metadata": {},
   "source": [
    "<div class=\"discussion\"><b>Discussion</b></div>\n",
    "\n",
    "- What are the dark error bars? \n",
    "- What are the light error bars?"
   ]
  },
  {
   "cell_type": "markdown",
   "metadata": {},
   "source": [
    "<div class=\"exercise\"><b>Exercise 1</b></div>\n",
    "\n",
    "1. Fit a 3rd degree polynomial model and plot the model+error bars\n",
    " - Route1: Build a design df with a column for each of `age`, `age**2`, `age**3`\n",
    " - Route2: Just edit the formula"
   ]
  },
  {
   "cell_type": "markdown",
   "metadata": {},
   "source": [
    "**Answers**:\n",
    "\n",
    "1. "
   ]
  },
  {
   "cell_type": "code",
   "execution_count": 16,
   "metadata": {},
   "outputs": [],
   "source": [
    "# your code here\n",
    "# model2 = sm.ols('y ~ age + age**2 + age**3',data=diab)\n",
    "model2 = sm.ols('y ~ age + np.power(age,2) + np.power(age,3)',data=diab)\n",
    "fit2_lm = model2.fit()"
   ]
  },
  {
   "cell_type": "code",
   "execution_count": 17,
   "metadata": {
    "scrolled": true
   },
   "outputs": [
    {
     "data": {
      "text/html": [
       "<table class=\"simpletable\">\n",
       "<caption>OLS Regression Results</caption>\n",
       "<tr>\n",
       "  <th>Dep. Variable:</th>            <td>y</td>        <th>  R-squared:         </th> <td>   0.365</td>\n",
       "</tr>\n",
       "<tr>\n",
       "  <th>Model:</th>                   <td>OLS</td>       <th>  Adj. R-squared:    </th> <td>   0.316</td>\n",
       "</tr>\n",
       "<tr>\n",
       "  <th>Method:</th>             <td>Least Squares</td>  <th>  F-statistic:       </th> <td>   7.465</td>\n",
       "</tr>\n",
       "<tr>\n",
       "  <th>Date:</th>             <td>Mon, 11 Feb 2019</td> <th>  Prob (F-statistic):</th> <td>0.000458</td>\n",
       "</tr>\n",
       "<tr>\n",
       "  <th>Time:</th>                 <td>17:12:44</td>     <th>  Log-Likelihood:    </th> <td> -36.661</td>\n",
       "</tr>\n",
       "<tr>\n",
       "  <th>No. Observations:</th>      <td>    43</td>      <th>  AIC:               </th> <td>   81.32</td>\n",
       "</tr>\n",
       "<tr>\n",
       "  <th>Df Residuals:</th>          <td>    39</td>      <th>  BIC:               </th> <td>   88.37</td>\n",
       "</tr>\n",
       "<tr>\n",
       "  <th>Df Model:</th>              <td>     3</td>      <th>                     </th>     <td> </td>   \n",
       "</tr>\n",
       "<tr>\n",
       "  <th>Covariance Type:</th>      <td>nonrobust</td>    <th>                     </th>     <td> </td>   \n",
       "</tr>\n",
       "</table>\n",
       "<table class=\"simpletable\">\n",
       "<tr>\n",
       "          <td></td>            <th>coef</th>     <th>std err</th>      <th>t</th>      <th>P>|t|</th>  <th>[0.025</th>    <th>0.975]</th>  \n",
       "</tr>\n",
       "<tr>\n",
       "  <th>Intercept</th>        <td>    2.7405</td> <td>    0.508</td> <td>    5.393</td> <td> 0.000</td> <td>    1.713</td> <td>    3.768</td>\n",
       "</tr>\n",
       "<tr>\n",
       "  <th>age</th>              <td>    0.6648</td> <td>    0.250</td> <td>    2.655</td> <td> 0.011</td> <td>    0.158</td> <td>    1.171</td>\n",
       "</tr>\n",
       "<tr>\n",
       "  <th>np.power(age, 2)</th> <td>   -0.0641</td> <td>    0.034</td> <td>   -1.891</td> <td> 0.066</td> <td>   -0.133</td> <td>    0.004</td>\n",
       "</tr>\n",
       "<tr>\n",
       "  <th>np.power(age, 3)</th> <td>    0.0020</td> <td>    0.001</td> <td>    1.471</td> <td> 0.149</td> <td>   -0.001</td> <td>    0.005</td>\n",
       "</tr>\n",
       "</table>\n",
       "<table class=\"simpletable\">\n",
       "<tr>\n",
       "  <th>Omnibus:</th>       <td> 3.905</td> <th>  Durbin-Watson:     </th> <td>   1.912</td>\n",
       "</tr>\n",
       "<tr>\n",
       "  <th>Prob(Omnibus):</th> <td> 0.142</td> <th>  Jarque-Bera (JB):  </th> <td>   3.668</td>\n",
       "</tr>\n",
       "<tr>\n",
       "  <th>Skew:</th>          <td> 0.113</td> <th>  Prob(JB):          </th> <td>   0.160</td>\n",
       "</tr>\n",
       "<tr>\n",
       "  <th>Kurtosis:</th>      <td> 4.413</td> <th>  Cond. No.          </th> <td>9.29e+03</td>\n",
       "</tr>\n",
       "</table><br/><br/>Warnings:<br/>[1] Standard Errors assume that the covariance matrix of the errors is correctly specified.<br/>[2] The condition number is large, 9.29e+03. This might indicate that there are<br/>strong multicollinearity or other numerical problems."
      ],
      "text/plain": [
       "<class 'statsmodels.iolib.summary.Summary'>\n",
       "\"\"\"\n",
       "                            OLS Regression Results                            \n",
       "==============================================================================\n",
       "Dep. Variable:                      y   R-squared:                       0.365\n",
       "Model:                            OLS   Adj. R-squared:                  0.316\n",
       "Method:                 Least Squares   F-statistic:                     7.465\n",
       "Date:                Mon, 11 Feb 2019   Prob (F-statistic):           0.000458\n",
       "Time:                        17:12:44   Log-Likelihood:                -36.661\n",
       "No. Observations:                  43   AIC:                             81.32\n",
       "Df Residuals:                      39   BIC:                             88.37\n",
       "Df Model:                           3                                         \n",
       "Covariance Type:            nonrobust                                         \n",
       "====================================================================================\n",
       "                       coef    std err          t      P>|t|      [0.025      0.975]\n",
       "------------------------------------------------------------------------------------\n",
       "Intercept            2.7405      0.508      5.393      0.000       1.713       3.768\n",
       "age                  0.6648      0.250      2.655      0.011       0.158       1.171\n",
       "np.power(age, 2)    -0.0641      0.034     -1.891      0.066      -0.133       0.004\n",
       "np.power(age, 3)     0.0020      0.001      1.471      0.149      -0.001       0.005\n",
       "==============================================================================\n",
       "Omnibus:                        3.905   Durbin-Watson:                   1.912\n",
       "Prob(Omnibus):                  0.142   Jarque-Bera (JB):                3.668\n",
       "Skew:                           0.113   Prob(JB):                        0.160\n",
       "Kurtosis:                       4.413   Cond. No.                     9.29e+03\n",
       "==============================================================================\n",
       "\n",
       "Warnings:\n",
       "[1] Standard Errors assume that the covariance matrix of the errors is correctly specified.\n",
       "[2] The condition number is large, 9.29e+03. This might indicate that there are\n",
       "strong multicollinearity or other numerical problems.\n",
       "\"\"\""
      ]
     },
     "execution_count": 17,
     "metadata": {},
     "output_type": "execute_result"
    }
   ],
   "source": [
    "fit2_lm.summary()"
   ]
  },
  {
   "cell_type": "markdown",
   "metadata": {},
   "source": [
    "2. "
   ]
  },
  {
   "cell_type": "code",
   "execution_count": 18,
   "metadata": {},
   "outputs": [],
   "source": [
    "# your code here\n",
    "# ax1 = diab.plot.scatter(x='age',y='y',c='Red',title=\"Diabetes data with least-squares linear fit\")\n",
    "# ax1.set_xlabel(\"Age at Diagnosis\")\n",
    "# ax1.set_ylabel(\"Log C-Peptide Concentration\")\n",
    "\n",
    "\n",
    "# ax1.plot(predict_df.age, prediction_output['mean'],color=\"green\")\n",
    "# ax1.plot(predict_df.age, prediction_output['mean_ci_lower'], color=\"blue\",linestyle=\"dashed\")\n",
    "# ax1.plot(predict_df.age, prediction_output['mean_ci_upper'], color=\"blue\",linestyle=\"dashed\");\n",
    "\n",
    "# ax1.plot(predict_df.age, prediction_output['obs_ci_lower'], color=\"skyblue\",linestyle=\"dashed\")\n",
    "# ax1.plot(predict_df.age, prediction_output['obs_ci_upper'], color=\"skyblue\",linestyle=\"dashed\");"
   ]
  },
  {
   "cell_type": "markdown",
   "metadata": {},
   "source": [
    "## Linear/Polynomial Regression, but make it R"
   ]
  },
  {
   "cell_type": "markdown",
   "metadata": {},
   "source": [
    "This is the meat of the lab. After this section we'll know everything we need to in order to work with R models. The rest of the lab is just applying these concepts to run particular models. This section therefore is your 'cheat sheet' for working in R.\n",
    "\n",
    "What we need to know:\n",
    "- Importing (base) R functions\n",
    "- Importing R Library functions\n",
    "- Populating vectors R understands\n",
    "- Populating DataFrames R understands\n",
    "- Populating Formulas R understands\n",
    "- Running models in R\n",
    "- Getting results back to Python\n",
    "- Getting model predictions in R\n",
    "- Plotting in R\n",
    "- Reading R's documentation"
   ]
  },
  {
   "cell_type": "markdown",
   "metadata": {},
   "source": [
    "**Importing R functions**"
   ]
  },
  {
   "cell_type": "code",
   "execution_count": 19,
   "metadata": {},
   "outputs": [],
   "source": [
    "# if you're on JupyterHub you may need to specify the path to R\n",
    "\n",
    "#import os\n",
    "#os.environ['R_HOME'] = \"/usr/share/anaconda3/lib/R\"\n",
    "\n",
    "import rpy2.robjects as robjects"
   ]
  },
  {
   "cell_type": "code",
   "execution_count": 20,
   "metadata": {},
   "outputs": [],
   "source": [
    "r_lm = robjects.r[\"lm\"]\n",
    "r_predict = robjects.r[\"predict\"]\n",
    "#r_plot = robjects.r[\"plot\"] # more on plotting later\n",
    "\n",
    "#lm() and predict() are two of the most common functions we'll use"
   ]
  },
  {
   "cell_type": "markdown",
   "metadata": {},
   "source": [
    "**Importing R libraries**"
   ]
  },
  {
   "cell_type": "code",
   "execution_count": 21,
   "metadata": {},
   "outputs": [],
   "source": [
    "from rpy2.robjects.packages import importr\n",
    "# r_cluster = importr('cluster')\n",
    "# r_cluster.pam;"
   ]
  },
  {
   "cell_type": "markdown",
   "metadata": {},
   "source": [
    "**Populating vectors R understands**"
   ]
  },
  {
   "cell_type": "code",
   "execution_count": 22,
   "metadata": {},
   "outputs": [],
   "source": [
    "r_y = robjects.FloatVector(diab['y'])\n",
    "r_age = robjects.FloatVector(diab['age'])\n",
    "# What happens if we pass the wrong type?\n",
    "# How does r_age display?\n",
    "# How does r_age print?"
   ]
  },
  {
   "cell_type": "markdown",
   "metadata": {},
   "source": [
    "**Populating Data Frames R understands**"
   ]
  },
  {
   "cell_type": "code",
   "execution_count": 23,
   "metadata": {},
   "outputs": [],
   "source": [
    "diab_r = robjects.DataFrame({\"y\":r_y, \"age\":r_age})\n",
    "# How does diab_r display?\n",
    "# How does diab_r print?"
   ]
  },
  {
   "cell_type": "markdown",
   "metadata": {},
   "source": [
    "**Populating formulas R understands**"
   ]
  },
  {
   "cell_type": "code",
   "execution_count": 24,
   "metadata": {},
   "outputs": [],
   "source": [
    "simple_formula = robjects.Formula(\"y~age\")\n",
    "simple_formula.environment[\"y\"] = r_y #populate the formula's .environment, so it knows what 'y' and 'age' refer to\n",
    "simple_formula.environment[\"age\"] = r_age"
   ]
  },
  {
   "cell_type": "markdown",
   "metadata": {},
   "source": [
    "**Running Models in R**"
   ]
  },
  {
   "cell_type": "code",
   "execution_count": null,
   "metadata": {},
   "outputs": [],
   "source": [
    "diab_lm = r_lm(formula=simple_formula) # the formula object is storing all the needed variables"
   ]
  },
  {
   "cell_type": "code",
   "execution_count": null,
   "metadata": {},
   "outputs": [
    {
     "data": {
      "text/html": [
       "\n",
       "    <span>ListVector with 12 elements.</span>\n",
       "    <table>\n",
       "      <tbody>\n",
       "      \n",
       "      <tr>\n",
       "      <th>\n",
       "        coefficients\n",
       "      </th>\n",
       "      <td>\n",
       "        \n",
       "    <span>FloatVector with 2 elements.</span>\n",
       "    <table>\n",
       "      <tbody>\n",
       "      <tr>\n",
       "      \n",
       "      <td>\n",
       "        3.996031\n",
       "      </td>\n",
       "      \n",
       "      <td>\n",
       "        0.083086\n",
       "      </td>\n",
       "      \n",
       "      </tr>\n",
       "      </tbody>\n",
       "    </table>\n",
       "    \n",
       "      </td>\n",
       "      </tr>\n",
       "      \n",
       "      <tr>\n",
       "      <th>\n",
       "        residuals\n",
       "      </th>\n",
       "      <td>\n",
       "        \n",
       "    <span>FloatVector with 43 elements.</span>\n",
       "    <table>\n",
       "      <tbody>\n",
       "      <tr>\n",
       "      \n",
       "      <td>\n",
       "        0.371921\n",
       "      </td>\n",
       "      \n",
       "      <td>\n",
       "        -0.627189\n",
       "      </td>\n",
       "      \n",
       "      <td>\n",
       "        0.331564\n",
       "      </td>\n",
       "      \n",
       "      <td>\n",
       "        0.623256\n",
       "      </td>\n",
       "      \n",
       "      <td>\n",
       "        ...\n",
       "      </td>\n",
       "      \n",
       "      <td>\n",
       "        -0.934608\n",
       "      </td>\n",
       "      \n",
       "      <td>\n",
       "        -0.492768\n",
       "      </td>\n",
       "      \n",
       "      <td>\n",
       "        0.164502\n",
       "      </td>\n",
       "      \n",
       "      <td>\n",
       "        0.206638\n",
       "      </td>\n",
       "      \n",
       "      </tr>\n",
       "      </tbody>\n",
       "    </table>\n",
       "    \n",
       "      </td>\n",
       "      </tr>\n",
       "      \n",
       "      <tr>\n",
       "      <th>\n",
       "        effects\n",
       "      </th>\n",
       "      <td>\n",
       "        \n",
       "    <span>FloatVector with 43 elements.</span>\n",
       "    <table>\n",
       "      <tbody>\n",
       "      <tr>\n",
       "      \n",
       "      <td>\n",
       "        -31.124958\n",
       "      </td>\n",
       "      \n",
       "      <td>\n",
       "        -2.165975\n",
       "      </td>\n",
       "      \n",
       "      <td>\n",
       "        0.333051\n",
       "      </td>\n",
       "      \n",
       "      <td>\n",
       "        0.627310\n",
       "      </td>\n",
       "      \n",
       "      <td>\n",
       "        ...\n",
       "      </td>\n",
       "      \n",
       "      <td>\n",
       "        -0.881769\n",
       "      </td>\n",
       "      \n",
       "      <td>\n",
       "        -0.421956\n",
       "      </td>\n",
       "      \n",
       "      <td>\n",
       "        0.124907\n",
       "      </td>\n",
       "      \n",
       "      <td>\n",
       "        0.215828\n",
       "      </td>\n",
       "      \n",
       "      </tr>\n",
       "      </tbody>\n",
       "    </table>\n",
       "    \n",
       "      </td>\n",
       "      </tr>\n",
       "      \n",
       "      <tr>\n",
       "      <th>\n",
       "        ...\n",
       "      </th>\n",
       "      <td>\n",
       "        ...\n",
       "      </td>\n",
       "      </tr>\n",
       "      \n",
       "      <tr>\n",
       "      <th>\n",
       "        call\n",
       "      </th>\n",
       "      <td>\n",
       "        \n",
       "    <span>Vector with 2 elements.</span>\n",
       "    <table>\n",
       "      <tbody>\n",
       "      <tr>\n",
       "      \n",
       "      <td>\n",
       "        SignatureTranslatedFunc...\n",
       "      </td>\n",
       "      \n",
       "      <td>\n",
       "        Formula\n",
       "      </td>\n",
       "      \n",
       "      </tr>\n",
       "      </tbody>\n",
       "    </table>\n",
       "    \n",
       "      </td>\n",
       "      </tr>\n",
       "      \n",
       "      <tr>\n",
       "      <th>\n",
       "        terms\n",
       "      </th>\n",
       "      <td>\n",
       "        y ~ age\n",
       "attr(,\"variables\")\n",
       "list(y, age)\n",
       "attr(,\"factors\")\n",
       "    age\n",
       "y     0\n",
       "age   1\n",
       "attr(,\"term.labels\")\n",
       "[1] \"age\"\n",
       "attr(,\"order\")\n",
       "[1] 1\n",
       "attr(,\"intercept\")\n",
       "[1] 1\n",
       "attr(,\"response\")\n",
       "[1] 1\n",
       "attr(,\".Environment\")\n",
       "<environment: R_GlobalEnv>\n",
       "attr(,\"predvars\")\n",
       "list(y, age)\n",
       "attr(,\"dataClasses\")\n",
       "        y       age \n",
       "\"numeric\" \"numeric\" \n",
       "\n",
       "      </td>\n",
       "      </tr>\n",
       "      \n",
       "      <tr>\n",
       "      <th>\n",
       "        model\n",
       "      </th>\n",
       "      <td>\n",
       "        \n",
       "    <span>R/rpy2 DataFrame (43 x 2)</span>\n",
       "    <table>\n",
       "      <thead>\n",
       "        <tr>\n",
       "        \n",
       "          <th>y</th>\n",
       "        \n",
       "          <th>age</th>\n",
       "        \n",
       "        </tr>\n",
       "      </thead>\n",
       "      <tbody>\n",
       "      \n",
       "      <tr>\n",
       "      \n",
       "      <td>\n",
       "        4.800000\n",
       "      </td>\n",
       "      \n",
       "      <td>\n",
       "        5.200000\n",
       "      </td>\n",
       "      \n",
       "      </tr>\n",
       "      \n",
       "      <tr>\n",
       "      \n",
       "      <td>\n",
       "        4.100000\n",
       "      </td>\n",
       "      \n",
       "      <td>\n",
       "        8.800000\n",
       "      </td>\n",
       "      \n",
       "      </tr>\n",
       "      \n",
       "      <tr>\n",
       "      \n",
       "      <td>\n",
       "        5.200000\n",
       "      </td>\n",
       "      \n",
       "      <td>\n",
       "        10.500000\n",
       "      </td>\n",
       "      \n",
       "      </tr>\n",
       "      \n",
       "      <tr>\n",
       "      \n",
       "      <td>\n",
       "        5.500000\n",
       "      </td>\n",
       "      \n",
       "      <td>\n",
       "        10.600000\n",
       "      </td>\n",
       "      \n",
       "      </tr>\n",
       "      \n",
       "      <tr>\n",
       "      \n",
       "      <td>\n",
       "        ...\n",
       "      </td>\n",
       "      \n",
       "      <td>\n",
       "        ...\n",
       "      </td>\n",
       "      \n",
       "      </tr>\n",
       "      \n",
       "      <tr>\n",
       "      \n",
       "      <td>\n",
       "        4.100000\n",
       "      </td>\n",
       "      \n",
       "      <td>\n",
       "        12.500000\n",
       "      </td>\n",
       "      \n",
       "      </tr>\n",
       "      \n",
       "      <tr>\n",
       "      \n",
       "      <td>\n",
       "        4.600000\n",
       "      </td>\n",
       "      \n",
       "      <td>\n",
       "        13.200000\n",
       "      </td>\n",
       "      \n",
       "      </tr>\n",
       "      \n",
       "      <tr>\n",
       "      \n",
       "      <td>\n",
       "        4.900000\n",
       "      </td>\n",
       "      \n",
       "      <td>\n",
       "        8.900000\n",
       "      </td>\n",
       "      \n",
       "      </tr>\n",
       "      \n",
       "      <tr>\n",
       "      \n",
       "      <td>\n",
       "        5.100000\n",
       "      </td>\n",
       "      \n",
       "      <td>\n",
       "        10.800000\n",
       "      </td>\n",
       "      \n",
       "      </tr>\n",
       "      \n",
       "      </tbody>\n",
       "    </table>\n",
       "    \n",
       "      </td>\n",
       "      </tr>\n",
       "      \n",
       "      </tbody>\n",
       "    </table>\n",
       "    "
      ],
      "text/plain": [
       "R object with classes: ('lm',) mapped to:\n",
       "<ListVector - Python:0x113e039c8 / R:0x7fcd84bf39a8>\n",
       "[FloatVector, FloatVector, FloatVector, IntVector, ..., ListVector, Vector, Formula, DataFrame]\n",
       "  coefficients: <class 'rpy2.robjects.vectors.FloatVector'>\n",
       "  R object with classes: ('numeric',) mapped to:\n",
       "<FloatVector - Python:0x1a16424808 / R:0x7fcd819c49c8>\n",
       "[3.996031, 0.083086]\n",
       "  residuals: <class 'rpy2.robjects.vectors.FloatVector'>\n",
       "  R object with classes: ('numeric',) mapped to:\n",
       "<FloatVector - Python:0x1a164bb788 / R:0x7fcd80dbfad0>\n",
       "[0.371921, -0.627189, 0.331564, 0.623256, ..., -0.934608, -0.492768, 0.164502, 0.206638]\n",
       "  effects: <class 'rpy2.robjects.vectors.FloatVector'>\n",
       "  R object with classes: ('numeric',) mapped to:\n",
       "<FloatVector - Python:0x1a164bbc88 / R:0x7fcd80dbe0c0>\n",
       "[-31.124958, -2.165975, 0.333051, 0.627310, ..., -0.881769, -0.421956, 0.124907, 0.215828]\n",
       "  rank: <class 'rpy2.robjects.vectors.IntVector'>\n",
       "  R object with classes: ('integer',) mapped to:\n",
       "<IntVector - Python:0x1a164bbbc8 / R:0x7fcd81ff42a8>\n",
       "[2]\n",
       "...\n",
       "R object with classes: ('lm',) mapped to:\n",
       "<ListVector - Python:0x113e039c8 / R:0x7fcd84bf39a8>\n",
       "[FloatVector, FloatVector, FloatVector, IntVector, ..., ListVector, Vector, Formula, DataFrame]\n",
       "  qr: <class 'rpy2.robjects.vectors.Vector'>\n",
       "  R object with classes: ('lm',) mapped to:\n",
       "<Vector - Python:0x1a1f391588 / R:0x7fcd85ca0cc8>\n",
       "[SignatureTranslatedFunc..., Formula]\n",
       "  df.residual: <class 'rpy2.robjects.Formula'>\n",
       "  R object with classes: ('terms', 'formula') mapped to:\n",
       "<Formula - Python:0x1a1f30a888 / R:0x7fcd81c7bba8>\n",
       "R object with classes: ('lm',) mapped to:\n",
       "<ListVector - Python:0x113e039c8 / R:0x7fcd84bf39a8>\n",
       "[FloatVector, FloatVector, FloatVector, IntVector, ..., ListVector, Vector, Formula, DataFrame]"
      ]
     },
     "execution_count": 26,
     "metadata": {},
     "output_type": "execute_result"
    }
   ],
   "source": [
    "diab_lm"
   ]
  },
  {
   "cell_type": "code",
   "execution_count": 1,
   "metadata": {},
   "outputs": [
    {
     "ename": "NameError",
     "evalue": "name 'robjects' is not defined",
     "output_type": "error",
     "traceback": [
      "\u001b[0;31m---------------------------------------------------------------------------\u001b[0m",
      "\u001b[0;31mNameError\u001b[0m                                 Traceback (most recent call last)",
      "\u001b[0;32m<ipython-input-1-b0cfe5a4c294>\u001b[0m in \u001b[0;36m<module>\u001b[0;34m\u001b[0m\n\u001b[1;32m      1\u001b[0m \u001b[0;31m# another way to set lm setting data as \"env\"\u001b[0m\u001b[0;34m\u001b[0m\u001b[0;34m\u001b[0m\u001b[0;34m\u001b[0m\u001b[0m\n\u001b[0;32m----> 2\u001b[0;31m \u001b[0msimple_formula\u001b[0m \u001b[0;34m=\u001b[0m \u001b[0mrobjects\u001b[0m\u001b[0;34m.\u001b[0m\u001b[0mFormula\u001b[0m\u001b[0;34m(\u001b[0m\u001b[0;34m\"y~age\"\u001b[0m\u001b[0;34m)\u001b[0m \u001b[0;31m# reset the formula\u001b[0m\u001b[0;34m\u001b[0m\u001b[0;34m\u001b[0m\u001b[0m\n\u001b[0m\u001b[1;32m      3\u001b[0m \u001b[0mdiab_lm\u001b[0m \u001b[0;34m=\u001b[0m \u001b[0mr_lm\u001b[0m\u001b[0;34m(\u001b[0m\u001b[0mformula\u001b[0m\u001b[0;34m=\u001b[0m\u001b[0msimple_formula\u001b[0m\u001b[0;34m,\u001b[0m \u001b[0mdata\u001b[0m\u001b[0;34m=\u001b[0m\u001b[0mdiab_r\u001b[0m\u001b[0;34m)\u001b[0m \u001b[0;31m#can also use a 'dumb' formula and pass a dataframe\u001b[0m\u001b[0;34m\u001b[0m\u001b[0;34m\u001b[0m\u001b[0m\n",
      "\u001b[0;31mNameError\u001b[0m: name 'robjects' is not defined"
     ]
    }
   ],
   "source": [
    "# another way to set lm setting data as \"env\"\n",
    "simple_formula = robjects.Formula(\"y~age\") # reset the formula\n",
    "diab_lm = r_lm(formula=simple_formula, data=diab_r) #can also use a 'dumb' formula and pass a dataframe"
   ]
  },
  {
   "cell_type": "markdown",
   "metadata": {},
   "source": [
    "**Getting results back to Python**"
   ]
  },
  {
   "cell_type": "code",
   "execution_count": null,
   "metadata": {
    "scrolled": true
   },
   "outputs": [
    {
     "data": {
      "text/html": [
       "\n",
       "    <span>ListVector with 12 elements.</span>\n",
       "    <table>\n",
       "      <tbody>\n",
       "      \n",
       "      <tr>\n",
       "      <th>\n",
       "        coefficients\n",
       "      </th>\n",
       "      <td>\n",
       "        \n",
       "    <span>FloatVector with 2 elements.</span>\n",
       "    <table>\n",
       "      <tbody>\n",
       "      <tr>\n",
       "      \n",
       "      <td>\n",
       "        3.996031\n",
       "      </td>\n",
       "      \n",
       "      <td>\n",
       "        0.083086\n",
       "      </td>\n",
       "      \n",
       "      </tr>\n",
       "      </tbody>\n",
       "    </table>\n",
       "    \n",
       "      </td>\n",
       "      </tr>\n",
       "      \n",
       "      <tr>\n",
       "      <th>\n",
       "        residuals\n",
       "      </th>\n",
       "      <td>\n",
       "        \n",
       "    <span>FloatVector with 43 elements.</span>\n",
       "    <table>\n",
       "      <tbody>\n",
       "      <tr>\n",
       "      \n",
       "      <td>\n",
       "        0.371921\n",
       "      </td>\n",
       "      \n",
       "      <td>\n",
       "        -0.627189\n",
       "      </td>\n",
       "      \n",
       "      <td>\n",
       "        0.331564\n",
       "      </td>\n",
       "      \n",
       "      <td>\n",
       "        0.623256\n",
       "      </td>\n",
       "      \n",
       "      <td>\n",
       "        ...\n",
       "      </td>\n",
       "      \n",
       "      <td>\n",
       "        -0.934608\n",
       "      </td>\n",
       "      \n",
       "      <td>\n",
       "        -0.492768\n",
       "      </td>\n",
       "      \n",
       "      <td>\n",
       "        0.164502\n",
       "      </td>\n",
       "      \n",
       "      <td>\n",
       "        0.206638\n",
       "      </td>\n",
       "      \n",
       "      </tr>\n",
       "      </tbody>\n",
       "    </table>\n",
       "    \n",
       "      </td>\n",
       "      </tr>\n",
       "      \n",
       "      <tr>\n",
       "      <th>\n",
       "        effects\n",
       "      </th>\n",
       "      <td>\n",
       "        \n",
       "    <span>FloatVector with 43 elements.</span>\n",
       "    <table>\n",
       "      <tbody>\n",
       "      <tr>\n",
       "      \n",
       "      <td>\n",
       "        -31.124958\n",
       "      </td>\n",
       "      \n",
       "      <td>\n",
       "        -2.165975\n",
       "      </td>\n",
       "      \n",
       "      <td>\n",
       "        0.333051\n",
       "      </td>\n",
       "      \n",
       "      <td>\n",
       "        0.627310\n",
       "      </td>\n",
       "      \n",
       "      <td>\n",
       "        ...\n",
       "      </td>\n",
       "      \n",
       "      <td>\n",
       "        -0.881769\n",
       "      </td>\n",
       "      \n",
       "      <td>\n",
       "        -0.421956\n",
       "      </td>\n",
       "      \n",
       "      <td>\n",
       "        0.124907\n",
       "      </td>\n",
       "      \n",
       "      <td>\n",
       "        0.215828\n",
       "      </td>\n",
       "      \n",
       "      </tr>\n",
       "      </tbody>\n",
       "    </table>\n",
       "    \n",
       "      </td>\n",
       "      </tr>\n",
       "      \n",
       "      <tr>\n",
       "      <th>\n",
       "        ...\n",
       "      </th>\n",
       "      <td>\n",
       "        ...\n",
       "      </td>\n",
       "      </tr>\n",
       "      \n",
       "      <tr>\n",
       "      <th>\n",
       "        call\n",
       "      </th>\n",
       "      <td>\n",
       "        \n",
       "    <span>Vector with 3 elements.</span>\n",
       "    <table>\n",
       "      <tbody>\n",
       "      <tr>\n",
       "      \n",
       "      <td>\n",
       "        SignatureTrans...\n",
       "      </td>\n",
       "      \n",
       "      <td>\n",
       "        Formula\n",
       "      </td>\n",
       "      \n",
       "      <td>\n",
       "        DataFrame\n",
       "      </td>\n",
       "      \n",
       "      </tr>\n",
       "      </tbody>\n",
       "    </table>\n",
       "    \n",
       "      </td>\n",
       "      </tr>\n",
       "      \n",
       "      <tr>\n",
       "      <th>\n",
       "        terms\n",
       "      </th>\n",
       "      <td>\n",
       "        y ~ age\n",
       "attr(,\"variables\")\n",
       "list(y, age)\n",
       "attr(,\"factors\")\n",
       "    age\n",
       "y     0\n",
       "age   1\n",
       "attr(,\"term.labels\")\n",
       "[1] \"age\"\n",
       "attr(,\"order\")\n",
       "[1] 1\n",
       "attr(,\"intercept\")\n",
       "[1] 1\n",
       "attr(,\"response\")\n",
       "[1] 1\n",
       "attr(,\".Environment\")\n",
       "<environment: R_GlobalEnv>\n",
       "attr(,\"predvars\")\n",
       "list(y, age)\n",
       "attr(,\"dataClasses\")\n",
       "        y       age \n",
       "\"numeric\" \"numeric\" \n",
       "\n",
       "      </td>\n",
       "      </tr>\n",
       "      \n",
       "      <tr>\n",
       "      <th>\n",
       "        model\n",
       "      </th>\n",
       "      <td>\n",
       "        \n",
       "    <span>R/rpy2 DataFrame (43 x 2)</span>\n",
       "    <table>\n",
       "      <thead>\n",
       "        <tr>\n",
       "        \n",
       "          <th>y</th>\n",
       "        \n",
       "          <th>age</th>\n",
       "        \n",
       "        </tr>\n",
       "      </thead>\n",
       "      <tbody>\n",
       "      \n",
       "      <tr>\n",
       "      \n",
       "      <td>\n",
       "        4.800000\n",
       "      </td>\n",
       "      \n",
       "      <td>\n",
       "        5.200000\n",
       "      </td>\n",
       "      \n",
       "      </tr>\n",
       "      \n",
       "      <tr>\n",
       "      \n",
       "      <td>\n",
       "        4.100000\n",
       "      </td>\n",
       "      \n",
       "      <td>\n",
       "        8.800000\n",
       "      </td>\n",
       "      \n",
       "      </tr>\n",
       "      \n",
       "      <tr>\n",
       "      \n",
       "      <td>\n",
       "        5.200000\n",
       "      </td>\n",
       "      \n",
       "      <td>\n",
       "        10.500000\n",
       "      </td>\n",
       "      \n",
       "      </tr>\n",
       "      \n",
       "      <tr>\n",
       "      \n",
       "      <td>\n",
       "        5.500000\n",
       "      </td>\n",
       "      \n",
       "      <td>\n",
       "        10.600000\n",
       "      </td>\n",
       "      \n",
       "      </tr>\n",
       "      \n",
       "      <tr>\n",
       "      \n",
       "      <td>\n",
       "        ...\n",
       "      </td>\n",
       "      \n",
       "      <td>\n",
       "        ...\n",
       "      </td>\n",
       "      \n",
       "      </tr>\n",
       "      \n",
       "      <tr>\n",
       "      \n",
       "      <td>\n",
       "        4.100000\n",
       "      </td>\n",
       "      \n",
       "      <td>\n",
       "        12.500000\n",
       "      </td>\n",
       "      \n",
       "      </tr>\n",
       "      \n",
       "      <tr>\n",
       "      \n",
       "      <td>\n",
       "        4.600000\n",
       "      </td>\n",
       "      \n",
       "      <td>\n",
       "        13.200000\n",
       "      </td>\n",
       "      \n",
       "      </tr>\n",
       "      \n",
       "      <tr>\n",
       "      \n",
       "      <td>\n",
       "        4.900000\n",
       "      </td>\n",
       "      \n",
       "      <td>\n",
       "        8.900000\n",
       "      </td>\n",
       "      \n",
       "      </tr>\n",
       "      \n",
       "      <tr>\n",
       "      \n",
       "      <td>\n",
       "        5.100000\n",
       "      </td>\n",
       "      \n",
       "      <td>\n",
       "        10.800000\n",
       "      </td>\n",
       "      \n",
       "      </tr>\n",
       "      \n",
       "      </tbody>\n",
       "    </table>\n",
       "    \n",
       "      </td>\n",
       "      </tr>\n",
       "      \n",
       "      </tbody>\n",
       "    </table>\n",
       "    "
      ],
      "text/plain": [
       "R object with classes: ('lm',) mapped to:\n",
       "<ListVector - Python:0x1a1f307b08 / R:0x7fcd8503a458>\n",
       "[FloatVector, FloatVector, FloatVector, IntVector, ..., ListVector, Vector, Formula, DataFrame]\n",
       "  coefficients: <class 'rpy2.robjects.vectors.FloatVector'>\n",
       "  R object with classes: ('numeric',) mapped to:\n",
       "<FloatVector - Python:0x1a164bfd08 / R:0x7fcd86841748>\n",
       "[3.996031, 0.083086]\n",
       "  residuals: <class 'rpy2.robjects.vectors.FloatVector'>\n",
       "  R object with classes: ('numeric',) mapped to:\n",
       "<FloatVector - Python:0x1a16421288 / R:0x7fcd8421c700>\n",
       "[0.371921, -0.627189, 0.331564, 0.623256, ..., -0.934608, -0.492768, 0.164502, 0.206638]\n",
       "  effects: <class 'rpy2.robjects.vectors.FloatVector'>\n",
       "  R object with classes: ('numeric',) mapped to:\n",
       "<FloatVector - Python:0x1a16427348 / R:0x7fcd8421cec0>\n",
       "[-31.124958, -2.165975, 0.333051, 0.627310, ..., -0.881769, -0.421956, 0.124907, 0.215828]\n",
       "  rank: <class 'rpy2.robjects.vectors.IntVector'>\n",
       "  R object with classes: ('integer',) mapped to:\n",
       "<IntVector - Python:0x1a1645e448 / R:0x7fcd86877768>\n",
       "[2]\n",
       "...\n",
       "R object with classes: ('lm',) mapped to:\n",
       "<ListVector - Python:0x1a1f307b08 / R:0x7fcd8503a458>\n",
       "[FloatVector, FloatVector, FloatVector, IntVector, ..., ListVector, Vector, Formula, DataFrame]\n",
       "  qr: <class 'rpy2.robjects.vectors.Vector'>\n",
       "  R object with classes: ('lm',) mapped to:\n",
       "<Vector - Python:0x1a1647b6c8 / R:0x7fcd8683ee00>\n",
       "[SignatureTrans..., Formula, DataFrame]\n",
       "  df.residual: <class 'rpy2.robjects.Formula'>\n",
       "  R object with classes: ('terms', 'formula') mapped to:\n",
       "<Formula - Python:0x1a164a64c8 / R:0x7fcd86860a80>\n",
       "R object with classes: ('lm',) mapped to:\n",
       "<ListVector - Python:0x1a1f307b08 / R:0x7fcd8503a458>\n",
       "[FloatVector, FloatVector, FloatVector, IntVector, ..., ListVector, Vector, Formula, DataFrame]"
      ]
     },
     "execution_count": 28,
     "metadata": {},
     "output_type": "execute_result"
    }
   ],
   "source": [
    "diab_lm #the result is already 'in' python, but it's a special object"
   ]
  },
  {
   "cell_type": "code",
   "execution_count": null,
   "metadata": {},
   "outputs": [
    {
     "name": "stdout",
     "output_type": "stream",
     "text": [
      " [1] \"coefficients\"  \"residuals\"     \"effects\"       \"rank\"         \n",
      " [5] \"fitted.values\" \"assign\"        \"qr\"            \"df.residual\"  \n",
      " [9] \"xlevels\"       \"call\"          \"terms\"         \"model\"        \n",
      "\n"
     ]
    }
   ],
   "source": [
    "print(diab_lm.names) # view all names"
   ]
  },
  {
   "cell_type": "code",
   "execution_count": null,
   "metadata": {},
   "outputs": [
    {
     "data": {
      "text/html": [
       "\n",
       "    <span>FloatVector with 2 elements.</span>\n",
       "    <table>\n",
       "      <tbody>\n",
       "      <tr>\n",
       "      \n",
       "      <td>\n",
       "        3.996031\n",
       "      </td>\n",
       "      \n",
       "      <td>\n",
       "        0.083086\n",
       "      </td>\n",
       "      \n",
       "      </tr>\n",
       "      </tbody>\n",
       "    </table>\n",
       "    "
      ],
      "text/plain": [
       "R object with classes: ('numeric',) mapped to:\n",
       "<FloatVector - Python:0x1a164bfdc8 / R:0x7fcd86841748>\n",
       "[3.996031, 0.083086]"
      ]
     },
     "execution_count": 30,
     "metadata": {},
     "output_type": "execute_result"
    }
   ],
   "source": [
    "diab_lm[0] #grab the first element"
   ]
  },
  {
   "cell_type": "code",
   "execution_count": null,
   "metadata": {},
   "outputs": [
    {
     "data": {
      "text/html": [
       "\n",
       "    <span>FloatVector with 2 elements.</span>\n",
       "    <table>\n",
       "      <tbody>\n",
       "      <tr>\n",
       "      \n",
       "      <td>\n",
       "        3.996031\n",
       "      </td>\n",
       "      \n",
       "      <td>\n",
       "        0.083086\n",
       "      </td>\n",
       "      \n",
       "      </tr>\n",
       "      </tbody>\n",
       "    </table>\n",
       "    "
      ],
      "text/plain": [
       "R object with classes: ('numeric',) mapped to:\n",
       "<FloatVector - Python:0x102fcc0c8 / R:0x7fcd86841748>\n",
       "[3.996031, 0.083086]"
      ]
     },
     "execution_count": 31,
     "metadata": {},
     "output_type": "execute_result"
    }
   ],
   "source": [
    "diab_lm.rx2(\"coefficients\") #use rx2 to get elements by name!\n",
    "# rx2 = [[]]; rx = []"
   ]
  },
  {
   "cell_type": "code",
   "execution_count": null,
   "metadata": {},
   "outputs": [
    {
     "data": {
      "text/plain": [
       "array([3.99603115, 0.08308615])"
      ]
     },
     "execution_count": 32,
     "metadata": {},
     "output_type": "execute_result"
    }
   ],
   "source": [
    "np.array(diab_lm.rx2(\"coefficients\")) #r vectors can be converted to numpy (but rarely needed)"
   ]
  },
  {
   "cell_type": "markdown",
   "metadata": {},
   "source": [
    "**Getting Predictions**"
   ]
  },
  {
   "cell_type": "code",
   "execution_count": null,
   "metadata": {},
   "outputs": [],
   "source": [
    "# make a df to predict on (might just be the validation or test dataframe)\n",
    "predict_df = robjects.DataFrame({\"age\": robjects.FloatVector(np.linspace(0,16,100))})\n",
    "\n",
    "# call R's predict() function, passing the model and the data \n",
    "predictions = r_predict(diab_lm, predict_df)"
   ]
  },
  {
   "cell_type": "code",
   "execution_count": null,
   "metadata": {},
   "outputs": [],
   "source": [
    "x_vals = predict_df.rx2(\"age\")"
   ]
  },
  {
   "cell_type": "code",
   "execution_count": null,
   "metadata": {},
   "outputs": [
    {
     "data": {
      "text/plain": [
       "(rpy2.robjects.vectors.FloatVector, rpy2.robjects.vectors.FloatVector)"
      ]
     },
     "execution_count": 35,
     "metadata": {},
     "output_type": "execute_result"
    }
   ],
   "source": [
    "type(x_vals), type(predictions)"
   ]
  },
  {
   "cell_type": "code",
   "execution_count": null,
   "metadata": {},
   "outputs": [
    {
     "data": {
      "image/png": "[encoded data removed]",
      "text/plain": [
       "<Figure size 432x288 with 1 Axes>"
      ]
     },
     "metadata": {
      "needs_background": "light"
     },
     "output_type": "display_data"
    }
   ],
   "source": [
    "ax = diab.plot.scatter(x='age',y='y',c='Red',title=\"Diabetes data\")\n",
    "ax.set_xlabel(\"Age at Diagnosis\")\n",
    "ax.set_ylabel(\"Log C-Peptide Concentration\");\n",
    "\n",
    "ax.plot(x_vals,predictions); #plt still works with r vectors as input!"
   ]
  },
  {
   "cell_type": "markdown",
   "metadata": {},
   "source": [
    "**Plotting in R**"
   ]
  },
  {
   "cell_type": "code",
   "execution_count": null,
   "metadata": {
    "scrolled": true
   },
   "outputs": [],
   "source": [
    "%load_ext rpy2.ipython"
   ]
  },
  {
   "cell_type": "markdown",
   "metadata": {},
   "source": [
    "- The above turns on the %R \"magic\"\n",
    "- R's plot() command responds differently based on what you hand to it; Different models get different plots!\n",
    " - For any specific model search for plot.modelname. E.g. for a GAM model, search plot.gam for any details of plotting a GAM model\n",
    "- The %R \"magic\" runs R code in 'notebook' mode, so figures display nicely\n",
    "  - Ahead of the `plot(<model>)` code we pass in the variables R needs to know about (`-i` is for \"input\")"
   ]
  },
  {
   "cell_type": "code",
   "execution_count": null,
   "metadata": {
    "scrolled": true
   },
   "outputs": [
    {
     "data": {
      "image/png": "[encoded data removed]"
     },
     "metadata": {},
     "output_type": "display_data"
    },
    {
     "data": {
      "image/png": "[encoded data removed]"
     },
     "metadata": {},
     "output_type": "display_data"
    },
    {
     "data": {
      "image/png": "[encoded data removed]"
     },
     "metadata": {},
     "output_type": "display_data"
    },
    {
     "data": {
      "image/png": "[encoded data removed]"
     },
     "metadata": {},
     "output_type": "display_data"
    }
   ],
   "source": [
    "%R -i diab_lm plot(diab_lm);"
   ]
  },
  {
   "cell_type": "markdown",
   "metadata": {},
   "source": [
    "**Reading R's documentation**"
   ]
  },
  {
   "cell_type": "markdown",
   "metadata": {},
   "source": [
    "The documentation for the `lm()` funciton is [here](https://stat.ethz.ch/R-manual/R-devel/library/stats/html/lm.html), and a prettier version (same content) is [here](https://www.rdocumentation.org/packages/stats/versions/3.5.2/topics/lm). When googling, perfer rdocumentation.org when possible.\n",
    "Sections:\n",
    " - **Usage**: gives the function signature, including all optional arguments\n",
    " - **Arguments**: What each function input controls\n",
    " - **Details**: additional info on what the funciton *does* and how arguments interact. **Often the right place to start reading**\n",
    " - **Value**: the structure of the object returned by the function\n",
    " - **Refferences**: The relevant academic papers\n",
    " - **See Also**: other functions of interest"
   ]
  },
  {
   "cell_type": "markdown",
   "metadata": {},
   "source": [
    "<div class=\"exercise\"><b>Exercise 2</b></div>\n",
    "\n",
    "1. Add confidence intervals calculated in R to the linear regression plot above. Use the `interval=` argument to `r_predict()` (documentation [here](https://stat.ethz.ch/R-manual/R-devel/library/stats/html/predict.lm.html)). You will have to work with a matrix returned by R.\n",
    "2. Fit a 5th degree polynomial to the diabetes data in R. Search the web for an easier method than writing out a formula with all 5 polynomial terms."
   ]
  },
  {
   "cell_type": "markdown",
   "metadata": {},
   "source": [
    "**Answers**\n",
    "\n",
    "1. "
   ]
  },
  {
   "cell_type": "code",
   "execution_count": null,
   "metadata": {},
   "outputs": [],
   "source": [
    "# your code here\n",
    "predictions2 = r_predict(diab_lm, predict_df, interval = \"confidence\")"
   ]
  },
  {
   "cell_type": "code",
   "execution_count": null,
   "metadata": {
    "scrolled": true
   },
   "outputs": [
    {
     "data": {
      "text/plain": [
       "array([[3.99603115, 3.50207114, 4.48999116],\n",
       "       [4.00945921, 3.52289228, 4.49602614],\n",
       "       [4.02288728, 3.54369092, 4.50208363],\n",
       "       [4.03631534, 3.56446601, 4.50816467],\n",
       "       [4.04974341, 3.58521644, 4.51427038],\n",
       "       [4.06317147, 3.605941  , 4.52040194],\n",
       "       [4.07659954, 3.62663845, 4.52656062],\n",
       "       [4.0900276 , 3.64730746, 4.53274774],\n",
       "       [4.10345567, 3.6679466 , 4.53896474],\n",
       "       [4.11688373, 3.68855436, 4.5452131 ],\n",
       "       [4.13031179, 3.70912914, 4.55149445],\n",
       "       [4.14373986, 3.72966923, 4.55781049],\n",
       "       [4.15716792, 3.75017282, 4.56416303],\n",
       "       [4.17059599, 3.77063796, 4.57055402],\n",
       "       [4.18402405, 3.7910626 , 4.57698551],\n",
       "       [4.19745212, 3.81144452, 4.58345972],\n",
       "       [4.21088018, 3.83178138, 4.58997899],\n",
       "       [4.22430825, 3.85207066, 4.59654583],\n",
       "       [4.23773631, 3.8723097 , 4.60316292],\n",
       "       [4.25116438, 3.89249562, 4.60983313],\n",
       "       [4.26459244, 3.91262537, 4.61655951],\n",
       "       [4.27802051, 3.93269568, 4.62334533],\n",
       "       [4.29144857, 3.95270304, 4.6301941 ],\n",
       "       [4.30487663, 3.97264373, 4.63710954],\n",
       "       [4.3183047 , 3.99251373, 4.64409566],\n",
       "       [4.33173276, 4.01230879, 4.65115674],\n",
       "       [4.34516083, 4.03202431, 4.65829735],\n",
       "       [4.35858889, 4.05165542, 4.66552237],\n",
       "       [4.37201696, 4.07119689, 4.67283702],\n",
       "       [4.38544502, 4.09064315, 4.68024689],\n",
       "       [4.39887309, 4.10998825, 4.68775793],\n",
       "       [4.41230115, 4.12922584, 4.69537647],\n",
       "       [4.42572922, 4.14834916, 4.70310927],\n",
       "       [4.43915728, 4.16735104, 4.71096352],\n",
       "       [4.45258535, 4.18622385, 4.71894684],\n",
       "       [4.46601341, 4.20495952, 4.7270673 ],\n",
       "       [4.47944148, 4.22354951, 4.73533344],\n",
       "       [4.49286954, 4.24198482, 4.74375426],\n",
       "       [4.5062976 , 4.26025602, 4.75233919],\n",
       "       [4.51972567, 4.27835323, 4.76109811],\n",
       "       [4.53315373, 4.29626615, 4.77004132],\n",
       "       [4.5465818 , 4.31398413, 4.77917947],\n",
       "       [4.56000986, 4.33149618, 4.78852354],\n",
       "       [4.57343793, 4.34879109, 4.79808477],\n",
       "       [4.58686599, 4.36585744, 4.80787454],\n",
       "       [4.60029406, 4.38268378, 4.81790434],\n",
       "       [4.61372212, 4.39925869, 4.82818556],\n",
       "       [4.62715019, 4.41557095, 4.83872942],\n",
       "       [4.64057825, 4.4316097 , 4.8495468 ],\n",
       "       [4.65400632, 4.44736456, 4.86064807],\n",
       "       [4.66743438, 4.46282585, 4.87204291],\n",
       "       [4.68086244, 4.47798474, 4.88374015],\n",
       "       [4.69429051, 4.49283343, 4.89574759],\n",
       "       [4.70771857, 4.50736534, 4.90807181],\n",
       "       [4.72114664, 4.52157519, 4.92071808],\n",
       "       [4.7345747 , 4.53545921, 4.9336902 ],\n",
       "       [4.74800277, 4.54901514, 4.9469904 ],\n",
       "       [4.76143083, 4.56224236, 4.9606193 ],\n",
       "       [4.7748589 , 4.57514186, 4.97457594],\n",
       "       [4.78828696, 4.58771623, 4.9888577 ],\n",
       "       [4.80171503, 4.59996959, 5.00346046],\n",
       "       [4.81514309, 4.61190752, 5.01837866],\n",
       "       [4.82857116, 4.62353688, 5.03360543],\n",
       "       [4.84199922, 4.63486573, 5.04913271],\n",
       "       [4.85542728, 4.64590309, 5.06495148],\n",
       "       [4.86885535, 4.65665881, 5.08105189],\n",
       "       [4.88228341, 4.66714338, 5.09742344],\n",
       "       [4.89571148, 4.67736778, 5.11405517],\n",
       "       [4.90913954, 4.68734328, 5.1309358 ],\n",
       "       [4.92256761, 4.69708131, 5.14805391],\n",
       "       [4.93599567, 4.70659333, 5.16539802],\n",
       "       [4.94942374, 4.7158907 , 5.18295677],\n",
       "       [4.9628518 , 4.72498462, 5.20071898],\n",
       "       [4.97627987, 4.73388599, 5.21867374],\n",
       "       [4.98970793, 4.7426054 , 5.23681047],\n",
       "       [5.003136  , 4.75115304, 5.25511895],\n",
       "       [5.01656406, 4.7595387 , 5.27358942],\n",
       "       [5.02999212, 4.76777173, 5.29221252],\n",
       "       [5.04342019, 4.77586101, 5.31097936],\n",
       "       [5.05684825, 4.78381499, 5.32988152],\n",
       "       [5.07027632, 4.79164162, 5.34891102],\n",
       "       [5.08370438, 4.79934844, 5.36806033],\n",
       "       [5.09713245, 4.80694254, 5.38732236],\n",
       "       [5.11056051, 4.81443057, 5.40669046],\n",
       "       [5.12398858, 4.82181879, 5.42615837],\n",
       "       [5.13741664, 4.82911307, 5.44572021],\n",
       "       [5.15084471, 4.8363189 , 5.46537051],\n",
       "       [5.16427277, 4.84344143, 5.48510411],\n",
       "       [5.17770084, 4.85048548, 5.50491619],\n",
       "       [5.1911289 , 4.85745555, 5.52480225],\n",
       "       [5.20455696, 4.86435585, 5.54475808],\n",
       "       [5.21798503, 4.87119032, 5.56477974],\n",
       "       [5.23141309, 4.87796264, 5.58486354],\n",
       "       [5.24484116, 4.88467627, 5.60500604],\n",
       "       [5.25826922, 4.89133443, 5.62520402],\n",
       "       [5.27169729, 4.89794012, 5.64545446],\n",
       "       [5.28512535, 4.90449617, 5.66575454],\n",
       "       [5.29855342, 4.91100522, 5.68610161],\n",
       "       [5.31198148, 4.91746974, 5.70649322],\n",
       "       [5.32540955, 4.92389206, 5.72692704]])"
      ]
     },
     "execution_count": 40,
     "metadata": {},
     "output_type": "execute_result"
    }
   ],
   "source": [
    "np.array(predictions2)"
   ]
  },
  {
   "cell_type": "code",
   "execution_count": null,
   "metadata": {},
   "outputs": [
    {
     "data": {
      "image/png": "[encoded data removed]",
      "text/plain": [
       "<Figure size 432x288 with 1 Axes>"
      ]
     },
     "metadata": {
      "needs_background": "light"
     },
     "output_type": "display_data"
    }
   ],
   "source": [
    "ax = diab.plot.scatter(x='age',y='y',c='Red',title=\"Diabetes data\")\n",
    "ax.set_xlabel(\"Age at Diagnosis\")\n",
    "ax.set_ylabel(\"Log C-Peptide Concentration\");\n",
    "\n",
    "ax.plot(x_vals,predictions2); #plt still works with r vectors as input!"
   ]
  },
  {
   "cell_type": "markdown",
   "metadata": {},
   "source": [
    "2."
   ]
  },
  {
   "cell_type": "code",
   "execution_count": null,
   "metadata": {},
   "outputs": [],
   "source": [
    "# your code here\n",
    "simple_formula2 = robjects.Formula(\"y~poly(age, 5)\") # reset the formula\n",
    "diab_lm2 = r_lm(formula=simple_formula2, data=diab_r)"
   ]
  },
  {
   "cell_type": "markdown",
   "metadata": {},
   "source": [
    "## Lowess Smoothing\n",
    "Lowess Smoothing is implemented in both Python and R. We'll use it as another example as we transition languages. "
   ]
  },
  {
   "cell_type": "markdown",
   "metadata": {},
   "source": [
    "<div class=\"discussion\"><b>Discussion</b></div>\n",
    "\n",
    " - What is lowess smoothing? Which 109a models is it related to?\n",
    "      - knn with linear regression \n",
    " - How explainable is lowess?\n",
    " - What are the tunable parameters?"
   ]
  },
  {
   "cell_type": "markdown",
   "metadata": {},
   "source": [
    "**In Python**"
   ]
  },
  {
   "cell_type": "code",
   "execution_count": null,
   "metadata": {},
   "outputs": [],
   "source": [
    "from statsmodels.nonparametric.smoothers_lowess import lowess as lowess\n",
    "\n",
    "ss1 = lowess(diab['y'],diab['age'],frac=0.15)\n",
    "ss2 = lowess(diab['y'],diab['age'],frac=0.25)\n",
    "ss3 = lowess(diab['y'],diab['age'],frac=0.7)\n",
    "ss4 = lowess(diab['y'],diab['age'],frac=1)"
   ]
  },
  {
   "cell_type": "code",
   "execution_count": null,
   "metadata": {},
   "outputs": [],
   "source": [
    "ss1[:10,:] # we get back simple a smoothed y value for each x value in the data"
   ]
  },
  {
   "cell_type": "markdown",
   "metadata": {},
   "source": [
    "Notice the clean code to plot different models. We'll see even cleaner code in a minute"
   ]
  },
  {
   "cell_type": "code",
   "execution_count": null,
   "metadata": {
    "scrolled": true
   },
   "outputs": [],
   "source": [
    "for cur_model, cur_frac in zip([ss1,ss2,ss3,ss4],[0.15,0.25,0.7,1]):\n",
    "\n",
    "    ax = diab.plot.scatter(x='age',y='y',c='Red',title=\"Lowess Fit, Fraction = {}\".format(cur_frac))\n",
    "    ax.set_xlabel(\"Age at Diagnosis\")\n",
    "    ax.set_ylabel(\"Log C-Peptide Concentration\")\n",
    "    ax.plot(cur_model[:,0],cur_model[:,1],color=\"blue\")\n",
    "    \n",
    "    plt.show()\n",
    "    \n",
    "# high variance (first plot), high bias (last plot)\n",
    "# High variance: because the lines is likely to look different when get new data\n",
    "\n",
    "# HIgh bias: pretty consistently wrong"
   ]
  },
  {
   "cell_type": "markdown",
   "metadata": {},
   "source": [
    "<div class=\"discussion\"><b>Discussion</b></div>\n",
    "\n",
    "1. Which model has high variance, which has high bias? \n",
    "2. What makes a model high variance or high bias?"
   ]
  },
  {
   "cell_type": "markdown",
   "metadata": {},
   "source": [
    "**In R**  \n",
    "\n",
    "We need to:\n",
    " - Import the loess function\n",
    " - Send data over to R\n",
    " - Call the function and get results"
   ]
  },
  {
   "cell_type": "code",
   "execution_count": null,
   "metadata": {},
   "outputs": [],
   "source": [
    "r_loess = robjects.r['loess.smooth'] #extract R function\n",
    "r_y = robjects.FloatVector(diab['y'])\n",
    "r_age = robjects.FloatVector(diab['age'])\n",
    "\n",
    "ss1_r = r_loess(r_age,r_y, span=0.15, degree=1)"
   ]
  },
  {
   "cell_type": "code",
   "execution_count": null,
   "metadata": {},
   "outputs": [],
   "source": [
    "ss1_r #again, a smoothed y value for each x value in the data"
   ]
  },
  {
   "cell_type": "markdown",
   "metadata": {},
   "source": [
    "<div class=\"exercise\"><b>Exercise 3</b></div>\n",
    "\n",
    "Predict the output of\n",
    "1. `ss1_r[0]`\n",
    "2. `ss1_r.rx2(\"y\")`"
   ]
  },
  {
   "cell_type": "markdown",
   "metadata": {},
   "source": [
    "1."
   ]
  },
  {
   "cell_type": "markdown",
   "metadata": {},
   "source": [
    "*your answer here* "
   ]
  },
  {
   "cell_type": "markdown",
   "metadata": {},
   "source": [
    "2."
   ]
  },
  {
   "cell_type": "markdown",
   "metadata": {},
   "source": [
    "*your answer here* "
   ]
  },
  {
   "cell_type": "markdown",
   "metadata": {},
   "source": [
    "**Varying span**  \n",
    "Next, some extremely clean code to fit and plot models with various parameter settings. (Though the `zip()` method seen earlier is great when e.g. the label and the parameter differ)"
   ]
  },
  {
   "cell_type": "code",
   "execution_count": null,
   "metadata": {
    "scrolled": false
   },
   "outputs": [],
   "source": [
    "for cur_frac in [0.15,0.25,0.7,1]:\n",
    "    \n",
    "    cur_smooth = r_loess(r_age,r_y, span=cur_frac)\n",
    "\n",
    "    ax = diab.plot.scatter(x='age',y='y',c='Red',title=\"Lowess Fit, Fraction = {}\".format(cur_frac))\n",
    "    ax.set_xlabel(\"Age at Diagnosis\")\n",
    "    ax.set_ylabel(\"Log C-Peptide Concentration\")\n",
    "    ax.plot(cur_smooth[0], cur_smooth[1], color=\"blue\")\n",
    "    \n",
    "    plt.show()"
   ]
  },
  {
   "cell_type": "markdown",
   "metadata": {},
   "source": [
    "<div class=\"discussion\"><b>Discussion</b></div>\n",
    "\n",
    "- Mark wasn't kidding; the Python and R results differ for frac=.15. Thoughts?\n",
    "- Why isn't the bottom plot a straight line? We're using 100% of the data in each window..."
   ]
  },
  {
   "cell_type": "markdown",
   "metadata": {},
   "source": [
    "## Smoothing Splines\n",
    "From this point forward, we're working with R functions; these models aren't (well) supported in Python.\n",
    "\n",
    "For clarity: this is the fancy spline model that minimizes $MSE + \\lambda\\cdot\\text{wiggle penalty}$ $=$ $\\sum_{i=1}^N \\left(y_i - f(x_i)\\right)^2 + \\lambda \\int \\left(f''(x)\\right)^2$, across all possible functions $f$. The winner will always be a continuous, cubic polynomial with a knot at each data point"
   ]
  },
  {
   "cell_type": "markdown",
   "metadata": {},
   "source": [
    "<div class=\"discussion\"><b>Discussion</b></div>\n",
    "\n",
    "- Any idea why the winner is cubic?\n",
    "- How interpretable is this model?\n",
    "- What are the tunable parameters?"
   ]
  },
  {
   "cell_type": "code",
   "execution_count": null,
   "metadata": {},
   "outputs": [],
   "source": [
    "r_smooth_spline = robjects.r['smooth.spline'] #extract R function\n",
    "\n",
    "# run smoothing function\n",
    "spline1 = r_smooth_spline(r_age, r_y, spar=0)"
   ]
  },
  {
   "cell_type": "markdown",
   "metadata": {},
   "source": [
    "<div class=\"exercise\"><b>Exercise 4</b></div>\n",
    "\n",
    "1. We actually set the spar parameter, a scale-free value that translates to a $\\lambda$ through a complex expression. Inspect the 'spline1' result and extract the implied value of $\\lambda$\n",
    "2. Working from the fitting/plotting loop examples above, produce a plot like the one below for spar = [0,.5,.9,2], including axes labels and title."
   ]
  },
  {
   "cell_type": "markdown",
   "metadata": {},
   "source": [
    "1."
   ]
  },
  {
   "cell_type": "code",
   "execution_count": null,
   "metadata": {},
   "outputs": [],
   "source": [
    "# your answer here\n",
    "spline1.rx2(\"lambda\")"
   ]
  },
  {
   "cell_type": "markdown",
   "metadata": {},
   "source": [
    "2."
   ]
  },
  {
   "cell_type": "code",
   "execution_count": null,
   "metadata": {},
   "outputs": [],
   "source": [
    "## Solution\n",
    "for cur_spar in [0,0.5,0.9,2]:\n",
    "    \n",
    "    cur_model = r_smooth_spline(r_age, r_y, spar= cur_spar)\n",
    "    cur_lambda = cur_model.rx2(\"lambda\")[0]\n",
    "    \n",
    "    ax = diab.plot.scatter(x='age',y='y',c='Red',title=\"$\\lambda=$\"+str(cur_lambda)) #can use TeX style in labels\n",
    "    ax.set_xlabel(\"Age at Diagnosis\")\n",
    "    ax.set_ylabel(\"Log C-Peptide Concentration\")\n",
    "    ax.plot(cur_model.rx2(\"x\"),cur_model.rx2(\"y\"),color=\"darkgreen\")\n",
    "    \n",
    "    plt.show()"
   ]
  },
  {
   "cell_type": "code",
   "execution_count": null,
   "metadata": {},
   "outputs": [],
   "source": [
    "# your answer here\n",
    "for cur_frac in [0,0.5,0.9,2]:\n",
    "    \n",
    "    cur_smooth = r_smooth_spline(r_age,r_y, spar=cur_frac)\n",
    "\n",
    "    ax = diab.plot.scatter(x='age',y='y',c='Red',title=\"Smooth spline, Fraction = {}\".format(cur_frac))\n",
    "    ax.set_xlabel(\"Age at Diagnosis\")\n",
    "    ax.set_ylabel(\"Log C-Peptide Concentration\")\n",
    "    ax.plot(cur_smooth[0], cur_smooth[1], color=\"blue\")\n",
    "    \n",
    "    plt.show()"
   ]
  },
  {
   "cell_type": "markdown",
   "metadata": {},
   "source": [
    "**CV**  \n",
    "R's `smooth_spline` funciton has built-in CV to find a good lambda. See package [docs](https://www.rdocumentation.org/packages/stats/versions/3.5.2/topics/smooth.spline)."
   ]
  },
  {
   "cell_type": "code",
   "execution_count": null,
   "metadata": {
    "scrolled": true
   },
   "outputs": [],
   "source": [
    "spline_cv = r_smooth_spline(r_age, r_y, cv=True) \n",
    "\n",
    "lambda_cv = spline_cv.rx2(\"lambda\")[0]\n",
    "\n",
    "ax19 = diab.plot.scatter(x='age',y='y',c='Red',title=\"smoothing spline with $\\lambda=$\"+str(np.round(lambda_cv,4))+\", chosen by cross-validation\")\n",
    "ax19.set_xlabel(\"Age at Diagnosis\")\n",
    "ax19.set_ylabel(\"Log C-Peptide Concentration\")\n",
    "ax19.plot(spline_cv.rx2(\"x\"),spline_cv.rx2(\"y\"),color=\"darkgreen\");"
   ]
  },
  {
   "cell_type": "markdown",
   "metadata": {},
   "source": [
    "<div class=\"discussion\"><b>Discussion</b></div>\n",
    "\n",
    " - Does the selected model look reasonable?\n",
    " - How would you describe the effect of age at diagnosis on C_peptide concentration?\n",
    " - What are the costs/benefits of the (fancy) spline model, relative to the linear regression we fit above?"
   ]
  },
  {
   "cell_type": "markdown",
   "metadata": {},
   "source": [
    "## Natural & Basis Splines\n",
    "Here, we take a step backward on model complexity, but a step forward in coding complexity. We'll be working with R's formula interface again, so we will need to populate Formulas and DataFrames."
   ]
  },
  {
   "cell_type": "markdown",
   "metadata": {},
   "source": [
    "<div class=\"discussion\"><b>Discussion</b></div>\n",
    "\n",
    "- In what way are Natural and Basis splines less complex than the splines we were just working with?\n",
    "- What makes a spline 'natural'?\n",
    "- What makes a spline 'basis'?\n",
    "- What are the tuning parameters?\n",
    "\n",
    "Natural spline: \n",
    "Basis spline: using a set of polynomials that pair with the data and is numerically stable"
   ]
  },
  {
   "cell_type": "code",
   "execution_count": null,
   "metadata": {},
   "outputs": [],
   "source": [
    "#We will now work with a new dataset, called GAGurine.\n",
    "#The dataset description (from the R package MASS) is below:\n",
    "#Data were collected on the concentration of a chemical GAG \n",
    "# in the urine of 314 children aged from zero to seventeen years. \n",
    "# The aim of the study was to produce a chart to help a paediatrican\n",
    "# to assess if a child's GAG concentration is ‘normal’.\n",
    "\n",
    "#The variables are:\n",
    "# Age: age of child in years.\n",
    "# GAG: concentration of GAG (the units have been lost)."
   ]
  },
  {
   "cell_type": "code",
   "execution_count": null,
   "metadata": {
    "scrolled": false
   },
   "outputs": [],
   "source": [
    "GAGurine = pd.read_csv(\"data/GAGurine.csv\")\n",
    "display(GAGurine.head())\n",
    "\n",
    "ax31 = GAGurine.plot.scatter(x='Age',y='GAG',c='black',title=\"GAG in urine of children\")\n",
    "ax31.set_xlabel(\"Age\");\n",
    "ax31.set_ylabel(\"GAG\");"
   ]
  },
  {
   "cell_type": "markdown",
   "metadata": {},
   "source": [
    "Standard stuff: import function, convert variables to R format, call function"
   ]
  },
  {
   "cell_type": "code",
   "execution_count": null,
   "metadata": {},
   "outputs": [],
   "source": [
    "from rpy2.robjects.packages import importr\n",
    "r_splines = importr('splines')\n",
    "\n",
    "# populate R variables\n",
    "r_gag = robjects.FloatVector(GAGurine['GAG'].values)\n",
    "r_age = robjects.FloatVector(GAGurine['Age'].values)\n",
    "r_quarts = robjects.FloatVector(np.quantile(r_age,[.25,.5,.75])) #woah, numpy functions run on R objects!"
   ]
  },
  {
   "cell_type": "markdown",
   "metadata": {},
   "source": [
    "What happens when we call the ns or bs functions from r_splines?"
   ]
  },
  {
   "cell_type": "code",
   "execution_count": null,
   "metadata": {},
   "outputs": [],
   "source": [
    "ns_design = r_splines.ns(r_age, knots=r_quarts)\n",
    "bs_design = r_splines.bs(r_age, knots=r_quarts)\n",
    "\n",
    "# These output the design matrix"
   ]
  },
  {
   "cell_type": "code",
   "execution_count": null,
   "metadata": {
    "scrolled": true
   },
   "outputs": [],
   "source": [
    "print(ns_design)"
   ]
  },
  {
   "cell_type": "markdown",
   "metadata": {},
   "source": [
    "`ns` and `bs` return design matrices, not model objects! That's because they're meant to work with `lm`'s formula interface. To get a model object we populate a formula including `ns(<var>,<knots>)` and fit to data"
   ]
  },
  {
   "cell_type": "code",
   "execution_count": null,
   "metadata": {},
   "outputs": [],
   "source": [
    "r_lm = robjects.r['lm']\n",
    "r_predict = robjects.r['predict']\n",
    "\n",
    "# populate the formula\n",
    "ns_formula = robjects.Formula(\"Gag ~ ns(Age, knots=r_quarts)\")\n",
    "ns_formula.environment['Gag'] = r_gag\n",
    "ns_formula.environment['Age'] = r_age\n",
    "ns_formula.environment['r_quarts'] = r_quarts\n",
    "         \n",
    "# fit the model\n",
    "ns_model = r_lm(ns_formula)"
   ]
  },
  {
   "cell_type": "markdown",
   "metadata": {},
   "source": [
    "Predict like usual: build a dataframe to predict on and call `predict()`"
   ]
  },
  {
   "cell_type": "code",
   "execution_count": null,
   "metadata": {},
   "outputs": [],
   "source": [
    "# predict\n",
    "predict_frame = robjects.DataFrame({\"Age\": robjects.FloatVector(np.linspace(0,20,100))})\n",
    "\n",
    "ns_out = r_predict(ns_model, predict_frame)"
   ]
  },
  {
   "cell_type": "code",
   "execution_count": null,
   "metadata": {},
   "outputs": [],
   "source": [
    "ax32 = GAGurine.plot.scatter(x='Age',y='GAG',c='grey',title=\"GAG in urine of children\")\n",
    "ax32.set_xlabel(\"Age\")\n",
    "ax32.set_ylabel(\"GAG\")\n",
    "ax32.plot(predict_frame.rx2(\"Age\"),ns_out, color='red')\n",
    "ax32.legend([\"Natural spline, knots at quartiles\"]);"
   ]
  },
  {
   "cell_type": "markdown",
   "metadata": {},
   "source": [
    "<div class=\"exercise\"><b>Exercise 5</b></div>\n",
    "\n",
    "1. Fit a basis spline model with the same knots, and add it to the plot above\n",
    "2. Fit a basis spline with 8 knots placed at [2,4,6...14,16] and add it to the plot above"
   ]
  },
  {
   "cell_type": "markdown",
   "metadata": {},
   "source": [
    "**Answers:**  \n",
    "1."
   ]
  },
  {
   "cell_type": "code",
   "execution_count": null,
   "metadata": {},
   "outputs": [],
   "source": [
    "# populate the formula\n",
    "bs_formula = robjects.Formula(\"Gag ~ bs(Age, knots=r_quarts)\")\n",
    "bs_formula.environment['Gag'] = r_gag\n",
    "bs_formula.environment['Age'] = r_age\n",
    "bs_formula.environment['r_quarts'] = r_quarts\n",
    "         \n",
    "# fit the model\n",
    "bs_model = r_lm(bs_formula)"
   ]
  },
  {
   "cell_type": "code",
   "execution_count": null,
   "metadata": {},
   "outputs": [],
   "source": [
    "predict_frame = robjects.DataFrame({\"Age\": robjects.FloatVector(np.linspace(0,20,100))})\n",
    "\n",
    "bs_out = r_predict(bs_model, predict_frame)"
   ]
  },
  {
   "cell_type": "code",
   "execution_count": null,
   "metadata": {},
   "outputs": [],
   "source": [
    "ax32 = GAGurine.plot.scatter(x='Age',y='GAG',c='grey',title=\"GAG in urine of children\")\n",
    "ax32.set_xlabel(\"Age\")\n",
    "ax32.set_ylabel(\"GAG\")\n",
    "ax32.plot(predict_frame.rx2(\"Age\"),bs_out, color='red')\n",
    "ax32.legend([\"Basis spline, knots at quartiles\"]);"
   ]
  },
  {
   "cell_type": "markdown",
   "metadata": {},
   "source": [
    "2."
   ]
  },
  {
   "cell_type": "code",
   "execution_count": null,
   "metadata": {},
   "outputs": [],
   "source": [
    "# your answer here\n",
    "ax32 = GAGurine.plot.scatter(x='Age',y='GAG',c='grey',title=\"GAG in urine of children\")\n",
    "ax32.set_xlabel(\"Age\")\n",
    "ax32.set_ylabel(\"GAG\")\n",
    "ax32.plot(predict_frame.rx2(\"Age\"),ns_out, color='red')\n",
    "ax32.legend([\"Natural spline, knots at quartiles\"]);"
   ]
  },
  {
   "cell_type": "code",
   "execution_count": null,
   "metadata": {
    "scrolled": false
   },
   "outputs": [],
   "source": [
    "#%R -i overfit_model plot(overfit_model)\n",
    "# we'd get the same diagnostic plot we get from an lm model"
   ]
  },
  {
   "cell_type": "markdown",
   "metadata": {},
   "source": [
    "## GAMs\n",
    "We come, at last, to our most advanced model. The coding here isn't any more complex than we've done before, though the behind-the-scenes is awesome.\n",
    "\n",
    "First, let's get our (multivariate!) data"
   ]
  },
  {
   "cell_type": "code",
   "execution_count": null,
   "metadata": {
    "scrolled": true
   },
   "outputs": [],
   "source": [
    "kyphosis = pd.read_csv(\"data/kyphosis.csv\")\n",
    "\n",
    "print(\"\"\"\n",
    "# kyphosis - wherther a particular deformation was present post-operation\n",
    "# age - patient's age in months\n",
    "# number - the number of vertebrae involved in the operation\n",
    "# start - the number of the topmost vertebrae operated on\n",
    "\n",
    "\"\"\")\n",
    "display(kyphosis.head())\n",
    "display(kyphosis.describe(include='all'))\n",
    "display(kyphosis.dtypes)"
   ]
  },
  {
   "cell_type": "code",
   "execution_count": null,
   "metadata": {},
   "outputs": [],
   "source": [
    "#If there are errors about missing R packages, run the code below:\n",
    "\n",
    "#r_utils = importr('utils')\n",
    "#r_utils.install_packages('codetools')\n",
    "#r_utils.install_packages('gam')"
   ]
  },
  {
   "cell_type": "markdown",
   "metadata": {},
   "source": [
    "To fit a GAM, we\n",
    " - Import the `gam` library\n",
    " - Populate a formula including `s(<var>)` on variables we want to fit smooths for\n",
    " - Call `gam(formula, family=<string>)` where `family` is a string naming a probability distribution, chosen based on how the response variable is thought to occur. \n",
    " - Rough `family` guidelines:\n",
    "     - Response is binary or \"N occurances out of M tries\", e.g. number of lab rats (out of 10) developing disease: chooose `\"binomial\"`\n",
    "     - Response is a count with no logical upper bound, e.g. number of ice creams sold: choose `\"poisson\"`\n",
    "     - Response is real, with normally-distributed noise, e.g. person's height: choose `\"gaussian\"` (the default)"
   ]
  },
  {
   "cell_type": "code",
   "execution_count": null,
   "metadata": {},
   "outputs": [],
   "source": [
    "#There is a Python library in development for using GAMs (https://github.com/dswah/pyGAM)\n",
    "# but it is not yet as comprehensive as the R GAM library, which we will use here instead.\n",
    "\n",
    "# R also has the mgcv library, which implements some more advanced/flexible fitting methods\n",
    "\n",
    "r_gam_lib = importr('gam')\n",
    "r_gam = r_gam_lib.gam\n",
    "\n",
    "r_kyph = robjects.FactorVector(kyphosis[[\"Kyphosis\"]].values)\n",
    "r_Age = robjects.FloatVector(kyphosis[[\"Age\"]].values)\n",
    "r_Number = robjects.FloatVector(kyphosis[[\"Number\"]].values)\n",
    "r_Start = robjects.FloatVector(kyphosis[[\"Start\"]].values)\n",
    "\n",
    "kyph1_fmla = robjects.Formula(\"Kyphosis ~ s(Age) + s(Number) + s(Start)\")\n",
    "kyph1_fmla.environment['Kyphosis']=r_kyph\n",
    "kyph1_fmla.environment['Age']=r_Age\n",
    "kyph1_fmla.environment['Number']=r_Number\n",
    "kyph1_fmla.environment['Start']=r_Start\n",
    "\n",
    "\n",
    "kyph1_gam = r_gam(kyph1_fmla, family=\"binomial\")"
   ]
  },
  {
   "cell_type": "markdown",
   "metadata": {},
   "source": [
    "The fitted gam model has a lot of interesting data within it"
   ]
  },
  {
   "cell_type": "code",
   "execution_count": null,
   "metadata": {},
   "outputs": [],
   "source": [
    "print(kyph1_gam.names)"
   ]
  },
  {
   "cell_type": "markdown",
   "metadata": {},
   "source": [
    "Remember plotting? Calling R's `plot()` on a gam model is the easiest way to view the fitted splines"
   ]
  },
  {
   "cell_type": "code",
   "execution_count": null,
   "metadata": {},
   "outputs": [],
   "source": [
    "%R -i kyph1_gam plot(kyph1_gam, residuals=TRUE,se=TRUE, scale=20);\n",
    "\n",
    "# Young people has a lower risk, becuase older people have a wider \"CI\""
   ]
  },
  {
   "cell_type": "markdown",
   "metadata": {},
   "source": [
    "Prediction works like normal (build a data frame to predict on, if you don't already have one, and call `predict()`). However, predict always reports the sum of the individual variable effects. If `family` is non-default this can be different from the actual prediction for that point.\n",
    "\n",
    "For instance, we're doing a 'logistic regression' so the raw prediction is log odds, but we can get probability by using in `predict(..., type=\"response\")`"
   ]
  },
  {
   "cell_type": "code",
   "execution_count": null,
   "metadata": {},
   "outputs": [],
   "source": [
    "kyph_new = robjects.DataFrame({'Age': robjects.IntVector((84,85,86)), \n",
    "                               'Start': robjects.IntVector((5,3,1)), \n",
    "                               'Number': robjects.IntVector((1,6,10))})\n",
    "\n",
    "print(\"Raw response (so, Log odds):\")\n",
    "display(r_predict(kyph1_gam, kyph_new))\n",
    "print(\"Scaled response (so, probabilty of kyphosis):\")\n",
    "display(r_predict(kyph1_gam, kyph_new, type=\"response\"))"
   ]
  },
  {
   "cell_type": "markdown",
   "metadata": {},
   "source": [
    "<div class=\"discussion\"><b>Discussion</b></div>\n",
    "<div class=\"exercise\"><b>Exercise 6</b></div>\n",
    "\n",
    "1. What lambda did we use? \n",
    "    - Lambda was found algorithmatically \n",
    "2. What is the model telling us about the effects of age, starting vertebrae, and number of vertebae operated on\n",
    "3. If we fit a logistic regression instead, which variables might want quadratic terms. What is the cost and benefit of a logistic regression model versus a GAM?\n",
    "4. Critique the model: \n",
    "    - What is it assuming? Are the assumptions reasonable\n",
    "    - Are we using the right data?\n",
    "    - Does the model's story about the world make sense?"
   ]
  },
  {
   "cell_type": "markdown",
   "metadata": {},
   "source": [
    "## Appendix"
   ]
  },
  {
   "cell_type": "markdown",
   "metadata": {},
   "source": [
    "GAMs and smoothing splines support hypothesis tets to compare models. (We can always compare models via out-of-sample prediction quality (i.e. performance on a validation set), but statistical ideas like hypothesis tests yet information criteria allow us to use all data for training *and* still compare the quality of model A to model B)"
   ]
  },
  {
   "cell_type": "code",
   "execution_count": null,
   "metadata": {
    "scrolled": true
   },
   "outputs": [],
   "source": [
    "r_anova = robjects.r[\"anova\"]\n",
    "\n",
    "kyph0_fmla = robjects.Formula(\"Kyphosis~1\")\n",
    "kyph0_fmla.environment['Kyphosis']=r_kyph\n",
    "\n",
    "kyph0_gam = r_gam(kyph0_fmla, family=\"binomial\")\n",
    "print(r_anova(kyph0_gam, kyph1_gam, test=\"Chi\"))"
   ]
  },
  {
   "cell_type": "markdown",
   "metadata": {},
   "source": [
    "**Explicitly joining spline functions**"
   ]
  },
  {
   "cell_type": "code",
   "execution_count": null,
   "metadata": {},
   "outputs": [],
   "source": [
    "def h(x, xi, pow_arg): #pow is a reserved keyword in Python\n",
    "    if (x > xi):\n",
    "        return pow((x-xi),pow_arg)\n",
    "    else:\n",
    "        return 0\n",
    "h = np.vectorize(h,otypes=[np.float]) #default behavior is to return ints, which gives incorrect answer\n",
    "#also, vectorize does not play nicely with default arguments, so better to set directly (e.g., pow_arg=1)"
   ]
  },
  {
   "cell_type": "code",
   "execution_count": null,
   "metadata": {},
   "outputs": [],
   "source": [
    "xvals = np.arange(0,10.1,0.1)\n",
    "ax20 = plt.plot(xvals,h(xvals,4,1),color=\"red\")\n",
    "_ = plt.title(\"Truncated linear basis function with knot at x=4\")\n",
    "_ = plt.xlabel(\"$x$\")\n",
    "_ = plt.ylabel(\"$(x-4)_+$\") #note the use of TeX in the label"
   ]
  },
  {
   "cell_type": "code",
   "execution_count": null,
   "metadata": {},
   "outputs": [],
   "source": [
    "ax21 = plt.plot(xvals,h(xvals,4,3),color=\"red\")\n",
    "_ = plt.title(\"Truncated cubic basis function with knot at x=4\")\n",
    "_ = plt.xlabel(\"$x$\")\n",
    "_ = plt.ylabel(\"$(x-4)_+^3$\")"
   ]
  },
  {
   "cell_type": "code",
   "execution_count": null,
   "metadata": {},
   "outputs": [],
   "source": [
    "ax22 = plt.plot(xvals,2+xvals+3*h(xvals,2,1)-4*h(xvals,5,1)+0.5*h(xvals,8,1),color=\"red\")\n",
    "_ = plt.title(\"Piecewise linear spline with knots at x=2, 5, and 8\")\n",
    "_ = plt.xlabel(\"$x$\")\n",
    "_ = plt.ylabel(\"$y$\")"
   ]
  },
  {
   "cell_type": "markdown",
   "metadata": {},
   "source": [
    "Comparing splines to the (noisy) model that generated them."
   ]
  },
  {
   "cell_type": "code",
   "execution_count": null,
   "metadata": {},
   "outputs": [],
   "source": [
    "x = np.arange(0.1,10,9.9/100) \n",
    "from scipy.stats import norm\n",
    "#ppf (percent point function) is the rather unusual name for\n",
    "#the quantile or inverse CDF function in SciPy\n",
    "y = norm.ppf(x/10) + np.random.normal(0,0.4,100)\n",
    "ax23 = plt.scatter(x,y,facecolors='none', edgecolors='black')\n",
    "_ = plt.title(\"3 knots\")\n",
    "_ = plt.xlabel(\"$x$\")\n",
    "_ = plt.ylabel(\"$y$\")\n",
    "_ = plt.plot(x,sm.ols('y~x+h(x,2,1)+h(x,5,1)+h(x,8,1)',data={'x':x,'y':y}).fit().predict(),color=\"darkblue\",linewidth=2)\n",
    "_ = plt.plot(x,norm.ppf(x/10),color=\"red\")"
   ]
  },
  {
   "cell_type": "code",
   "execution_count": null,
   "metadata": {},
   "outputs": [],
   "source": [
    "ax24 = plt.scatter(x,y,facecolors='none', edgecolors='black')\n",
    "_ = plt.title(\"6 knots\")\n",
    "_ = plt.xlabel(\"$x$\")\n",
    "_ = plt.ylabel(\"$y$\")\n",
    "_ = plt.plot(x,sm.ols('y~x+h(x,1,1)+h(x,2,1)+h(x,3.5,1)+h(x,5,1)+h(x,6.5,1)+h(x,8,1)',data={'x':x,'y':y}).fit().predict(),color=\"darkblue\",linewidth=2)\n",
    "_ = plt.plot(x,norm.ppf(x/10),color=\"red\")"
   ]
  },
  {
   "cell_type": "code",
   "execution_count": null,
   "metadata": {},
   "outputs": [],
   "source": [
    "ax25 = plt.scatter(x,y,facecolors='none', edgecolors='black')\n",
    "_ = plt.title(\"9 knots\")\n",
    "_ = plt.xlabel(\"$x$\")\n",
    "_ = plt.ylabel(\"$y$\")\n",
    "_ = plt.plot(x,sm.ols('y~x+h(x,1,1)+h(x,2,1)+h(x,3,1)+h(x,4,1)+h(x,5,1)+h(x,6,1)+h(x,7,1)+h(x,8,1)+h(x,9,1)',data={'x':x,'y':y}).fit().predict(),color=\"darkblue\",linewidth=2)\n",
    "_ = plt.plot(x,norm.ppf(x/10),color=\"red\")"
   ]
  },
  {
   "cell_type": "code",
   "execution_count": null,
   "metadata": {},
   "outputs": [],
   "source": [
    "regstr = 'y~x+'\n",
    "for i in range(1,26):\n",
    "    regstr += 'h(x,'+str(i/26*10)+',1)+'\n",
    "regstr = regstr[:-1] #drop last +\n",
    "ax26 = plt.scatter(x,y,facecolors='none', edgecolors='black')\n",
    "_ = plt.title(\"25 knots\")\n",
    "_ = plt.xlabel(\"$x$\")\n",
    "_ = plt.ylabel(\"$y$\")\n",
    "_ = plt.plot(x,sm.ols(regstr,data={'x':x,'y':y}).fit().predict(),color=\"darkblue\",linewidth=2)\n",
    "_ = plt.plot(x,norm.ppf(x/10),color=\"red\")"
   ]
  },
  {
   "cell_type": "markdown",
   "metadata": {},
   "source": [
    "### Exercise:\n",
    "\n",
    "Try generating random data from different distributions and fitting polynomials of different degrees to it. What do you observe?\n"
   ]
  },
  {
   "cell_type": "code",
   "execution_count": null,
   "metadata": {},
   "outputs": [],
   "source": [
    "# try it here"
   ]
  },
  {
   "cell_type": "code",
   "execution_count": null,
   "metadata": {},
   "outputs": [],
   "source": [
    "#So, we see that increasing the number of knots results in a more polynomial-like fit"
   ]
  },
  {
   "cell_type": "code",
   "execution_count": null,
   "metadata": {},
   "outputs": [],
   "source": [
    "#Next, we look at cubic splines with increasing numbers of knots\n",
    "ax27 = plt.scatter(x,y,facecolors='none', edgecolors='black')\n",
    "_ = plt.title(\"3 knots\")\n",
    "_ = plt.xlabel(\"$x$\")\n",
    "_ = plt.ylabel(\"$y$\")\n",
    "_ = plt.plot(x,sm.ols('y~x+np.power(x,2)+np.power(x,3)+h(x,2,3)+h(x,5,3)+h(x,8,3)',data={'x':x,'y':y}).fit().predict(),color=\"darkblue\",linewidth=2)\n",
    "_ = plt.plot(x,norm.ppf(x/10),color=\"red\")"
   ]
  },
  {
   "cell_type": "code",
   "execution_count": null,
   "metadata": {},
   "outputs": [],
   "source": [
    "ax28 = plt.scatter(x,y,facecolors='none', edgecolors='black')\n",
    "_ = plt.title(\"6 knots\")\n",
    "_ = plt.xlabel(\"$x$\")\n",
    "_ = plt.ylabel(\"$y$\")\n",
    "_ = plt.plot(x,sm.ols('y~x+np.power(x,2)+np.power(x,3)+h(x,1,3)+h(x,2,3)+h(x,3.5,3)+h(x,5,3)+h(x,6.5,3)+h(x,8,3)',data={'x':x,'y':y}).fit().predict(),color=\"darkblue\",linewidth=2)\n",
    "_ = plt.plot(x,norm.ppf(x/10),color=\"red\")"
   ]
  },
  {
   "cell_type": "code",
   "execution_count": null,
   "metadata": {},
   "outputs": [],
   "source": [
    "ax29 = plt.scatter(x,y,facecolors='none', edgecolors='black')\n",
    "_ = plt.title(\"9 knots\")\n",
    "_ = plt.xlabel(\"$x$\")\n",
    "_ = plt.ylabel(\"$y$\")\n",
    "_ = plt.plot(x,sm.ols('y~x+np.power(x,2)+np.power(x,3)+h(x,1,3)+h(x,2,3)+h(x,3,3)+h(x,4,3)+h(x,5,3)+h(x,6,3)+h(x,7,3)+h(x,8,3)+h(x,9,3)',data={'x':x,'y':y}).fit().predict(),color=\"darkblue\",linewidth=2)\n",
    "_ = plt.plot(x,norm.ppf(x/10),color=\"red\")"
   ]
  },
  {
   "cell_type": "code",
   "execution_count": null,
   "metadata": {
    "scrolled": true
   },
   "outputs": [],
   "source": [
    "regstr2 = 'y~x+np.power(x,2)+np.power(x,3)+'\n",
    "for i in range(1,26):\n",
    "    regstr2 += 'h(x,'+str(i/26*10)+',3)+'\n",
    "regstr2 = regstr2[:-1] #drop last +\n",
    "ax30 = plt.scatter(x,y,facecolors='none', edgecolors='black')\n",
    "_ = plt.title(\"25 knots\")\n",
    "_ = plt.xlabel(\"$x$\")\n",
    "_ = plt.ylabel(\"$y$\")\n",
    "_ = plt.plot(x,sm.ols(regstr2,data={'x':x,'y':y}).fit().predict(),color=\"darkblue\",linewidth=2)\n",
    "_ = plt.plot(x,norm.ppf(x/10),color=\"red\")"
   ]
  }
 ],
 "metadata": {
  "kernelspec": {
   "display_name": "Python 3",
   "language": "python",
   "name": "python3"
  }
 },
 "nbformat": 4,
 "nbformat_minor": 1
}
